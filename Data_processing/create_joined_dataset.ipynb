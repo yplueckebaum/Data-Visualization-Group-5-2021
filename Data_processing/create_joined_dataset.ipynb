{
 "cells": [
  {
   "cell_type": "markdown",
   "metadata": {
    "collapsed": true,
    "pycharm": {
     "name": "#%% md\n"
    }
   },
   "source": [
    "- [x] join tables -> add region column(turn notebook into py functions)\n",
    "- [lazy] pull daily updates from github into Dataset subfolder"
   ]
  },
  {
   "cell_type": "code",
   "execution_count": 4,
   "outputs": [],
   "source": [
    "#setup\n",
    "import os\n",
    "from preprocessing import Preprocessing\n",
    "import pandas as pd"
   ],
   "metadata": {
    "collapsed": false,
    "pycharm": {
     "name": "#%%\n"
    }
   }
  },
  {
   "cell_type": "code",
   "execution_count": 5,
   "outputs": [],
   "source": [
    "# join tables\n",
    "region_files = []\n",
    "for a,b,c in os.walk(\"../Dataset\"):\n",
    "    region_files.append(c)\n",
    "\n",
    "\n",
    "csv_files = [file for file in region_files[0] if \".csv\" in str(file)]\n",
    "json_files = [file for file in region_files[0] if \".json\" in str(file)]\n",
    "csv_files.sort()\n",
    "json_files.sort()\n",
    "\n",
    "\n",
    "data_files = []\n",
    "for csv,json in zip(csv_files,json_files):\n",
    "    data_files.append((csv,json))"
   ],
   "metadata": {
    "collapsed": false,
    "pycharm": {
     "name": "#%%\n"
    }
   }
  },
  {
   "cell_type": "code",
   "execution_count": 6,
   "outputs": [
    {
     "name": "stdout",
     "output_type": "stream",
     "text": [
      "../Dataset/BR_category_id.json\n",
      "BR\n",
      "../Dataset/CA_category_id.json\n",
      "CA\n",
      "../Dataset/DE_category_id.json\n",
      "DE\n",
      "../Dataset/FR_category_id.json\n",
      "FR\n",
      "../Dataset/GB_category_id.json\n",
      "GB\n",
      "../Dataset/IN_category_id.json\n",
      "IN\n",
      "../Dataset/JP_category_id.json\n",
      "JP\n",
      "../Dataset/KR_category_id.json\n",
      "KR\n",
      "../Dataset/MX_category_id.json\n",
      "MX\n",
      "../Dataset/RU_category_id.json\n",
      "RU\n",
      "../Dataset/US_category_id.json\n",
      "US\n"
     ]
    }
   ],
   "source": [
    "dataframes = []\n",
    "for csv,json in data_files:\n",
    "    preprocess_region = Preprocessing(\"../Dataset/\"+str(csv),\"../Dataset/\"+str(json))\n",
    "    df = preprocess_region.process_region_data()\n",
    "    dataframes.append(df)"
   ],
   "metadata": {
    "collapsed": false,
    "pycharm": {
     "name": "#%%\n"
    }
   }
  },
  {
   "cell_type": "code",
   "execution_count": 6,
   "outputs": [],
   "source": [],
   "metadata": {
    "collapsed": false,
    "pycharm": {
     "name": "#%%\n"
    }
   }
  },
  {
   "cell_type": "code",
   "execution_count": 7,
   "outputs": [],
   "source": [
    "assert len(dataframes) == len(csv_files)\n",
    "data = pd.concat(dataframes)"
   ],
   "metadata": {
    "collapsed": false,
    "pycharm": {
     "name": "#%%\n"
    }
   }
  },
  {
   "cell_type": "code",
   "execution_count": null,
   "outputs": [],
   "source": [
    "data.info()\n",
    "data.to_csv(\"./processed_dataset.csv\")"
   ],
   "metadata": {
    "collapsed": false,
    "pycharm": {
     "name": "#%%\n"
    }
   }
  },
  {
   "cell_type": "code",
   "execution_count": 8,
   "outputs": [
    {
     "name": "stdout",
     "output_type": "stream",
     "text": [
      "<class 'pandas.core.frame.DataFrame'>\n",
      "Int64Index: 916102 entries, 0 to 84190\n",
      "Data columns (total 19 columns):\n",
      " #   Column             Non-Null Count   Dtype \n",
      "---  ------             --------------   ----- \n",
      " 0   video_id           916102 non-null  object\n",
      " 1   title              916102 non-null  object\n",
      " 2   publishedAt        916102 non-null  object\n",
      " 3   channelId          916102 non-null  object\n",
      " 4   channelTitle       916101 non-null  object\n",
      " 5   categoryId         916102 non-null  int64 \n",
      " 6   trending_date      916102 non-null  object\n",
      " 7   tags               916102 non-null  object\n",
      " 8   view_count         916102 non-null  int64 \n",
      " 9   likes              916102 non-null  int64 \n",
      " 10  dislikes           916102 non-null  int64 \n",
      " 11  comment_count      916102 non-null  int64 \n",
      " 12  thumbnail_link     916102 non-null  object\n",
      " 13  comments_disabled  916102 non-null  bool  \n",
      " 14  ratings_disabled   916102 non-null  bool  \n",
      " 15  description        900639 non-null  object\n",
      " 16  category_text      916102 non-null  object\n",
      " 17  tagged             916102 non-null  bool  \n",
      " 18  region             916102 non-null  object\n",
      "dtypes: bool(3), int64(5), object(11)\n",
      "memory usage: 121.4+ MB\n"
     ]
    }
   ],
   "source": [],
   "metadata": {
    "collapsed": false,
    "pycharm": {
     "name": "#%%\n"
    }
   }
  },
  {
   "cell_type": "code",
   "execution_count": 8,
   "outputs": [],
   "source": [],
   "metadata": {
    "collapsed": false,
    "pycharm": {
     "name": "#%%\n"
    }
   }
  }
 ],
 "metadata": {
  "kernelspec": {
   "display_name": "Python 3",
   "language": "python",
   "name": "python3"
  },
  "language_info": {
   "codemirror_mode": {
    "name": "ipython",
    "version": 2
   },
   "file_extension": ".py",
   "mimetype": "text/x-python",
   "name": "python",
   "nbconvert_exporter": "python",
   "pygments_lexer": "ipython2",
   "version": "2.7.6"
  }
 },
 "nbformat": 4,
 "nbformat_minor": 0
}