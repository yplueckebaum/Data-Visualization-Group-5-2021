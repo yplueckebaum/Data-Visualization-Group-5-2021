{
 "cells": [
  {
   "cell_type": "markdown",
   "metadata": {
    "collapsed": true,
    "pycharm": {
     "name": "#%% md\n"
    }
   },
   "source": [
    "- [x] join tables -> add region column(turn notebook into py functions)\n",
    "- [lazy] pull daily updates from github into Dataset subfolder"
   ]
  },
  {
   "cell_type": "code",
   "execution_count": null,
   "outputs": [],
   "source": [
    "#setup\n",
    "import os\n",
    "from preprocessing import Preprocessing\n",
    "import pandas as pd"
   ],
   "metadata": {
    "collapsed": false,
    "pycharm": {
     "name": "#%%\n"
    }
   }
  },
  {
   "cell_type": "code",
   "execution_count": null,
   "outputs": [],
   "source": [
    "# join tables\n",
    "region_files = []\n",
    "for a,b,c in os.walk(\"../Dataset\"):\n",
    "    region_files.append(c)\n",
    "\n",
    "\n",
    "csv_files = [file for file in region_files[0] if \".csv\" in str(file)]\n",
    "json_files = [file for file in region_files[0] if \".json\" in str(file)]\n",
    "csv_files.sort()\n",
    "json_files.sort()\n",
    "\n",
    "\n",
    "data_files = []\n",
    "for csv,json in zip(csv_files,json_files):\n",
    "    data_files.append((csv,json))"
   ],
   "metadata": {
    "collapsed": false,
    "pycharm": {
     "name": "#%%\n"
    }
   }
  },
  {
   "cell_type": "code",
   "execution_count": null,
   "outputs": [],
   "source": [
    "dataframes = []\n",
    "for csv,json in data_files:\n",
    "    preprocess_region = Preprocessing(\"../Dataset/\"+str(csv),\"../Dataset/\"+str(json))\n",
    "    df = preprocess_region.process_region_data()\n",
    "    dataframes.append(df)"
   ],
   "metadata": {
    "collapsed": false,
    "pycharm": {
     "name": "#%%\n"
    }
   }
  },
  {
   "cell_type": "code",
   "execution_count": null,
   "outputs": [],
   "source": [
    "assert len(dataframes) == len(csv_files)\n",
    "data = pd.concat(dataframes)"
   ],
   "metadata": {
    "collapsed": false,
    "pycharm": {
     "name": "#%%\n"
    }
   }
  },
  {
   "cell_type": "code",
   "execution_count": null,
   "outputs": [],
   "source": [
    "data.info()\n",
    "data.to_csv(\"../Dataset/processed_dataset.csv\")"
   ],
   "metadata": {
    "collapsed": false,
    "pycharm": {
     "name": "#%%\n"
    }
   }
  },
  {
   "cell_type": "code",
   "execution_count": null,
   "outputs": [],
   "source": [],
   "metadata": {
    "collapsed": false,
    "pycharm": {
     "name": "#%%\n"
    }
   }
  }
 ],
 "metadata": {
  "kernelspec": {
   "display_name": "Python 3",
   "language": "python",
   "name": "python3"
  },
  "language_info": {
   "codemirror_mode": {
    "name": "ipython",
    "version": 2
   },
   "file_extension": ".py",
   "mimetype": "text/x-python",
   "name": "python",
   "nbconvert_exporter": "python",
   "pygments_lexer": "ipython2",
   "version": "2.7.6"
  }
 },
 "nbformat": 4,
 "nbformat_minor": 0
}