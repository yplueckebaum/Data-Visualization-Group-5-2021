{
 "cells": [
  {
   "cell_type": "code",
   "execution_count": 10,
   "outputs": [],
   "source": [
    "import pickle\n",
    "from cooccurrence import CoOccurrence\n",
    "import datetime\n",
    "import pandas as pd\n",
    "from collections import Counter\n",
    "import plotly.express as px\n",
    "\n",
    "import dash\n",
    "from dash import dcc\n",
    "from dash import html\n",
    "import dash_bootstrap_components as dbc\n",
    "from dash.dependencies import Input, Output, State\n",
    "import plotly.graph_objects as go\n",
    "\n",
    "import plotly.express as px\n",
    "import pandas as pd\n",
    "import numpy as np\n",
    "from os.path import exists\n",
    "\n",
    "cooccurrence = CoOccurrence()\n",
    "cooccurrence.setup()\n",
    "#cooccurrence.import_occurrences()\n",
    "\n",
    "with open(\"./occurrence.pickle\", 'rb') as handle:\n",
    "    cooccurrence.tags_occurrence_dict = pickle.load(handle)\n",
    "occurrence_df = pd.DataFrame.from_dict(cooccurrence.tags_occurrence_dict, orient='index')"
   ],
   "metadata": {
    "collapsed": false,
    "pycharm": {
     "name": "#%%\n"
    }
   }
  },
  {
   "cell_type": "code",
   "execution_count": 31,
   "outputs": [],
   "source": [
    "def top_n_tags(cooccurrence, region,category,startdate ,enddate,n = 10):\n",
    "\n",
    "    values= cooccurrence.df.loc[(cooccurrence.df[\"region\"] == region) & (cooccurrence.df[\"tagged\"]) & (cooccurrence.df[\"category_text\"] == category) & (pd.to_datetime(cooccurrence.df[\"trending_date\"]) >= startdate) & (pd.to_datetime(cooccurrence.df[\"trending_date\"]) <= enddate)][\"tags\"]\n",
    "    cooccurrence.tags_occurrence_dict.clear()\n",
    "    cooccurrence.tags_occurrence_dict = {cooccurrence.unique_tags[i]: 0 for i in range(0, len(cooccurrence.unique_tags))}\n",
    "    for tags in values:\n",
    "        for tag in tags.split(\"|\"):\n",
    "            cooccurrence.tags_occurrence_dict[tag] += 1\n",
    "    return dict(Counter(cooccurrence.tags_occurrence_dict).most_common(n))"
   ],
   "metadata": {
    "collapsed": false,
    "pycharm": {
     "name": "#%%\n"
    }
   }
  },
  {
   "cell_type": "code",
   "execution_count": 36,
   "outputs": [
    {
     "name": "stdout",
     "output_type": "stream",
     "text": [
      "heeejejjeeee\n"
     ]
    }
   ],
   "source": [
    "top_n_tags_dict = top_n_tags(cooccurrence=cooccurrence, region=\"BR\",category=\"Gaming\",startdate=pd.to_datetime(\"2020-08-12T00:00:00Z\"), enddate=pd.to_datetime(\"2021-10-04T00:00:00Z\"))\n",
    "\n",
    "import plotly.express as px\n",
    "import plotly.graph_objects as go\n",
    "\n",
    "df = pd.read_csv(\"processed_dataset.csv\")\n",
    "\n",
    "test = df.loc[(df['category_text'] == \"Gaming\") & (df['region'] == \"US\"),\"channelTitle\"]\n",
    "\n",
    "#videos_that_match_count = test.value_counts()\n",
    "#videos_that_match_largest = videos_that_match_count.nlargest(10)\n",
    "\n",
    "#x = videos_that_match_largest.nlargest(10).index\n",
    "#y = videos_that_match_largest.nlargest(10).values\n",
    "\n",
    "x = list(top_n_tags_dict.keys())\n",
    "y = list(top_n_tags_dict.values())\n",
    "\n",
    "fig = go.Figure(go.Bar(x=x, y=y, marker_color='rgb(44, 127, 184)'))\n",
    "\n",
    "fig.update_layout(\n",
    "     title = \"Tags\",\n",
    "     title_font_size = 20, legend_font_size = 10,\n",
    "     showlegend=True,\n",
    "     yaxis=dict(type='linear'))\n",
    "\n",
    "fig.update_xaxes(\n",
    "     title_text = 'Tags',\n",
    "     title_font=dict(size=15, family='Verdana', color='black'),\n",
    "     tickfont=dict(family='Calibri', color='black', size=12))\n",
    "\n",
    "fig.update_yaxes(\n",
    "     title_text = \"Number of videos\",\n",
    "     title_font=dict(size=15, family='Verdana', color='black'),\n",
    "     tickfont=dict(family='Calibri', color='black', size=12))\n",
    "\n",
    "fig.write_html('channelTitle.html', auto_open=True)\n",
    "\n",
    "fig.write_html('channelTitle.html', auto_open=True)\n",
    "\n"
   ],
   "metadata": {
    "collapsed": false,
    "pycharm": {
     "name": "#%%\n"
    }
   }
  }
 ],
 "metadata": {
  "kernelspec": {
   "name": "pycharm-b49589b1",
   "language": "python",
   "display_name": "PyCharm (Data-Visualization-Group-5-2021)"
  },
  "language_info": {
   "codemirror_mode": {
    "name": "ipython",
    "version": 2
   },
   "file_extension": ".py",
   "mimetype": "text/x-python",
   "name": "python",
   "nbconvert_exporter": "python",
   "pygments_lexer": "ipython2",
   "version": "2.7.6"
  }
 },
 "nbformat": 4,
 "nbformat_minor": 0
}