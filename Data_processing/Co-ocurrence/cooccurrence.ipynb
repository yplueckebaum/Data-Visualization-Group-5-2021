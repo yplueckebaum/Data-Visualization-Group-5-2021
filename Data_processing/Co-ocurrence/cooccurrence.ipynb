{
 "cells": [
  {
   "cell_type": "code",
   "execution_count": null,
   "outputs": [],
   "source": [
    "import matplotlib.pyplot as plt\n",
    "import pandas as pd\n",
    "import numpy as np\n",
    "import math\n",
    "import csv\n",
    "import scipy\n",
    "from scipy.sparse import load_npz\n",
    "from scipy.sparse import dok_matrix\n",
    "from scipy.sparse import save_npz\n",
    "from cooccurrence import CoOccurrence\n",
    "\n",
    "from datetime import datetime"
   ],
   "metadata": {
    "collapsed": false,
    "pycharm": {
     "name": "#%%\n"
    }
   }
  },
  {
   "cell_type": "code",
   "execution_count": null,
   "outputs": [],
   "source": [
    "cooccurrence = CoOccurrence()\n",
    "\n",
    "#make object"
   ],
   "metadata": {
    "collapsed": false,
    "pycharm": {
     "name": "#%%\n"
    }
   }
  },
  {
   "cell_type": "code",
   "execution_count": null,
   "outputs": [],
   "source": [
    "cooccurrence.import_occurrences();\n",
    "#access as cooccurrence.co_occurrence_dok,cooccurrence.tags_occurrence_dict\n",
    "\n",
    "\n",
    "# count matrix cooccurrence and occurrence of each tag\n",
    "#cooccurrence.generate_occurrences(dtype_co_occurrence=np.uint32,export=True,csv_path=\"../../Dataset\",export_path=\"../../Dataset\");"
   ],
   "metadata": {
    "collapsed": false,
    "pycharm": {
     "name": "#%%\n"
    }
   }
  },
  {
   "cell_type": "code",
   "execution_count": null,
   "outputs": [],
   "source": [
    "# convert to graph(undirected) with edge weights of co-occurrence\n",
    "from networkx.convert_matrix import from_scipy_sparse_matrix\n",
    "import networkx as nx\n",
    "cooccurrence.generate_graph()\n"
   ],
   "metadata": {
    "collapsed": false,
    "pycharm": {
     "name": "#%%\n"
    }
   }
  },
  {
   "cell_type": "code",
   "execution_count": null,
   "outputs": [],
   "source": [
    "# compute the best partition\n",
    "#cooccurrence.generate_partition()\n",
    "#cooccurrence.export_partition()\n",
    "cooccurrence.import_partition()"
   ],
   "metadata": {
    "collapsed": false,
    "pycharm": {
     "name": "#%%\n"
    }
   }
  }
 ],
 "metadata": {
  "kernelspec": {
   "display_name": "Python 3",
   "language": "python",
   "name": "python3"
  },
  "language_info": {
   "codemirror_mode": {
    "name": "ipython",
    "version": 2
   },
   "file_extension": ".py",
   "mimetype": "text/x-python",
   "name": "python",
   "nbconvert_exporter": "python",
   "pygments_lexer": "ipython2",
   "version": "2.7.6"
  }
 },
 "nbformat": 4,
 "nbformat_minor": 0
}