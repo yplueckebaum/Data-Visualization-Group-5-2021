{
 "cells": [
  {
   "cell_type": "code",
   "execution_count": 1,
   "outputs": [
    {
     "ename": "SyntaxError",
     "evalue": "invalid syntax (cooccurrence.py, line 107)",
     "output_type": "error",
     "traceback": [
      "Traceback \u001B[1;36m(most recent call last)\u001B[0m:\n",
      "  File \u001B[0;32m\"C:\\ProgramData\\Anaconda3\\envs\\dataviz\\lib\\site-packages\\IPython\\core\\interactiveshell.py\"\u001B[0m, line \u001B[0;32m3441\u001B[0m, in \u001B[0;35mrun_code\u001B[0m\n    exec(code_obj, self.user_global_ns, self.user_ns)\n",
      "\u001B[1;36m  File \u001B[1;32m\"C:\\Users\\YASARP~1\\AppData\\Local\\Temp/ipykernel_13288/4027214202.py\"\u001B[1;36m, line \u001B[1;32m10\u001B[1;36m, in \u001B[1;35m<module>\u001B[1;36m\u001B[0m\n\u001B[1;33m    from cooccurrence import CoOccurrence\u001B[0m\n",
      "\u001B[1;36m  File \u001B[1;32m\"C:\\Users\\Yasar Plückebaum\\PycharmProjects\\Data-Visualization-Group-5-2021\\Data_processing\\Co-ocurrence\\cooccurrence.py\"\u001B[1;36m, line \u001B[1;32m107\u001B[0m\n\u001B[1;33m    pickle.dump(self., handle, protocol=pickle.HIGHEST_PROTOCOL)\u001B[0m\n\u001B[1;37m                     ^\u001B[0m\n\u001B[1;31mSyntaxError\u001B[0m\u001B[1;31m:\u001B[0m invalid syntax\n"
     ]
    }
   ],
   "source": [
    "import matplotlib.pyplot as plt\n",
    "import pandas as pd\n",
    "import numpy as np\n",
    "import math\n",
    "import csv\n",
    "import scipy\n",
    "from scipy.sparse import load_npz\n",
    "from scipy.sparse import dok_matrix\n",
    "from scipy.sparse import save_npz\n",
    "from cooccurrence import CoOccurrence\n",
    "\n",
    "from datetime import datetime"
   ],
   "metadata": {
    "collapsed": false,
    "pycharm": {
     "name": "#%%\n"
    }
   }
  },
  {
   "cell_type": "code",
   "execution_count": null,
   "outputs": [],
   "source": [
    "cooccurrence = CoOccurrence()\n",
    "\n",
    "#make object"
   ],
   "metadata": {
    "collapsed": false,
    "pycharm": {
     "name": "#%%\n"
    }
   }
  },
  {
   "cell_type": "code",
   "execution_count": null,
   "outputs": [],
   "source": [
    "# or import\n",
    "cooccurrence.import_occurrences(co_occurrence_path=\"../../Dataset\",occurrence_path=\"../../Dataset\");\n",
    "#access as cooccurrence.co_occurrence_dok,cooccurrence.tags_occurrence_dict\n",
    "\n",
    "\n",
    "# count matrix cooccurrence and occurrence of each tag\n",
    "#cooccurrence.generate_occurrences(dtype_co_occurrence=np.uint32,export=True,csv_path=\"../../Dataset\",export_path=\"../../Dataset\");"
   ],
   "metadata": {
    "collapsed": false,
    "pycharm": {
     "name": "#%%\n"
    }
   }
  },
  {
   "cell_type": "code",
   "execution_count": null,
   "outputs": [],
   "source": [
    "# convert to graph(undirected) with edge weights of co-occurrence\n",
    "from networkx.convert_matrix import from_scipy_sparse_matrix\n",
    "import networkx as nx\n",
    "cooccurrence.generate_graph()\n"
   ],
   "metadata": {
    "collapsed": false,
    "pycharm": {
     "name": "#%%\n"
    }
   }
  },
  {
   "cell_type": "code",
   "execution_count": null,
   "outputs": [],
   "source": [
    "# compute the best partition\n",
    "#cooccurrence.generate_partition()\n",
    "#cooccurrence.export_partition()\n",
    "cooccurrence.import_parition()"
   ],
   "metadata": {
    "collapsed": false,
    "pycharm": {
     "name": "#%%\n"
    }
   }
  },
  {
   "cell_type": "code",
   "execution_count": null,
   "outputs": [],
   "source": [
    "\n"
   ],
   "metadata": {
    "collapsed": false,
    "pycharm": {
     "name": "#%%\n"
    }
   }
  }
 ],
 "metadata": {
  "kernelspec": {
   "display_name": "Python 3",
   "language": "python",
   "name": "python3"
  },
  "language_info": {
   "codemirror_mode": {
    "name": "ipython",
    "version": 2
   },
   "file_extension": ".py",
   "mimetype": "text/x-python",
   "name": "python",
   "nbconvert_exporter": "python",
   "pygments_lexer": "ipython2",
   "version": "2.7.6"
  }
 },
 "nbformat": 4,
 "nbformat_minor": 0
}