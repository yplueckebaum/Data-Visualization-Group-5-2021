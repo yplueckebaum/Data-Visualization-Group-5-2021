{
 "cells": [
  {
   "cell_type": "code",
   "execution_count": 59,
   "metadata": {
    "collapsed": true
   },
   "outputs": [],
   "source": [
    "import plotly.graph_objects as go\n",
    "import dash\n",
    "import plotly.express as px\n",
    "\n",
    "import dash_html_components as html\n",
    "\n",
    "import dash_core_components as dcc\n",
    "from dash.dependencies import Input, Output\n",
    "import plotly.offline as pyo\n",
    "import numpy as np\n",
    "import pandas as pd"
   ]
  },
  {
   "cell_type": "code",
   "execution_count": null,
   "outputs": [
    {
     "name": "stdout",
     "output_type": "stream",
     "text": [
      "Dash is running on http://127.0.0.1:8050/\n",
      "\n",
      "Dash is running on http://127.0.0.1:8050/\n",
      "\n",
      "Dash is running on http://127.0.0.1:8050/\n",
      "\n",
      "Dash is running on http://127.0.0.1:8050/\n",
      "\n",
      "Dash is running on http://127.0.0.1:8050/\n",
      "\n",
      "Dash is running on http://127.0.0.1:8050/\n",
      "\n",
      "Dash is running on http://127.0.0.1:8050/\n",
      "\n",
      "Dash is running on http://127.0.0.1:8050/\n",
      "\n",
      "Dash is running on http://127.0.0.1:8050/\n",
      "\n",
      "Dash is running on http://127.0.0.1:8050/\n",
      "\n",
      "Dash is running on http://127.0.0.1:8050/\n",
      "\n",
      "Dash is running on http://127.0.0.1:8050/\n",
      "\n",
      "Dash is running on http://127.0.0.1:8050/\n",
      "\n",
      "Dash is running on http://127.0.0.1:8050/\n",
      "\n",
      "Dash is running on http://127.0.0.1:8050/\n",
      "\n",
      "Dash is running on http://127.0.0.1:8050/\n",
      "\n",
      "Dash is running on http://127.0.0.1:8050/\n",
      "\n",
      "Dash is running on http://127.0.0.1:8050/\n",
      "\n",
      "Dash is running on http://127.0.0.1:8050/\n",
      "\n",
      "Dash is running on http://127.0.0.1:8050/\n",
      "\n",
      "Dash is running on http://127.0.0.1:8050/\n",
      "\n",
      "Dash is running on http://127.0.0.1:8050/\n",
      "\n",
      "Dash is running on http://127.0.0.1:8050/\n",
      "\n",
      "Dash is running on http://127.0.0.1:8050/\n",
      "\n",
      "Dash is running on http://127.0.0.1:8050/\n",
      "\n",
      "Dash is running on http://127.0.0.1:8050/\n",
      "\n",
      "Dash is running on http://127.0.0.1:8050/\n",
      "\n",
      "Dash is running on http://127.0.0.1:8050/\n",
      "\n",
      "Dash is running on http://127.0.0.1:8050/\n",
      "\n",
      "Dash is running on http://127.0.0.1:8050/\n",
      "\n",
      "Dash is running on http://127.0.0.1:8050/\n",
      "\n",
      "Dash is running on http://127.0.0.1:8050/\n",
      "\n",
      "Dash is running on http://127.0.0.1:8050/\n",
      "\n",
      "Dash is running on http://127.0.0.1:8050/\n",
      "\n",
      "Dash is running on http://127.0.0.1:8050/\n",
      "\n",
      "Dash is running on http://127.0.0.1:8050/\n",
      "\n"
     ]
    },
    {
     "name": "stderr",
     "output_type": "stream",
     "text": [
      "INFO:__main__:Dash is running on http://127.0.0.1:8050/\n",
      "\n"
     ]
    },
    {
     "name": "stdout",
     "output_type": "stream",
     "text": [
      " * Serving Flask app \"__main__\" (lazy loading)\r\n",
      " * Environment: production\r\n",
      "   WARNING: This is a development server. Do not use it in a production deployment.\r\n",
      "   Use a production WSGI server instead.\r\n",
      " * Debug mode: off\r\n"
     ]
    },
    {
     "name": "stderr",
     "output_type": "stream",
     "text": [
      " * Running on http://127.0.0.1:8050/ (Press CTRL+C to quit)\n",
      "INFO:werkzeug: * Running on http://127.0.0.1:8050/ (Press CTRL+C to quit)\n",
      "127.0.0.1 - - [12/Nov/2021 13:33:01] \"\u001B[37mGET / HTTP/1.1\u001B[0m\" 200 -\n",
      "INFO:werkzeug:127.0.0.1 - - [12/Nov/2021 13:33:01] \"\u001B[37mGET / HTTP/1.1\u001B[0m\" 200 -\n",
      "127.0.0.1 - - [12/Nov/2021 13:33:01] \"\u001B[37mGET /_dash-layout HTTP/1.1\u001B[0m\" 200 -\n",
      "INFO:werkzeug:127.0.0.1 - - [12/Nov/2021 13:33:01] \"\u001B[37mGET /_dash-layout HTTP/1.1\u001B[0m\" 200 -\n",
      "127.0.0.1 - - [12/Nov/2021 13:33:01] \"\u001B[37mGET /_dash-dependencies HTTP/1.1\u001B[0m\" 200 -\n",
      "INFO:werkzeug:127.0.0.1 - - [12/Nov/2021 13:33:01] \"\u001B[37mGET /_dash-dependencies HTTP/1.1\u001B[0m\" 200 -\n",
      "127.0.0.1 - - [12/Nov/2021 13:33:01] \"\u001B[37mGET /_favicon.ico?v=2.0.0 HTTP/1.1\u001B[0m\" 200 -\n",
      "INFO:werkzeug:127.0.0.1 - - [12/Nov/2021 13:33:01] \"\u001B[37mGET /_favicon.ico?v=2.0.0 HTTP/1.1\u001B[0m\" 200 -\n",
      "127.0.0.1 - - [12/Nov/2021 13:33:01] \"\u001B[36mGET /_dash-component-suites/dash/dcc/async-dropdown.js HTTP/1.1\u001B[0m\" 304 -\n",
      "INFO:werkzeug:127.0.0.1 - - [12/Nov/2021 13:33:01] \"\u001B[36mGET /_dash-component-suites/dash/dcc/async-dropdown.js HTTP/1.1\u001B[0m\" 304 -\n",
      "127.0.0.1 - - [12/Nov/2021 13:33:01] \"\u001B[36mGET /_dash-component-suites/dash/dcc/async-graph.js HTTP/1.1\u001B[0m\" 304 -\n",
      "INFO:werkzeug:127.0.0.1 - - [12/Nov/2021 13:33:01] \"\u001B[36mGET /_dash-component-suites/dash/dcc/async-graph.js HTTP/1.1\u001B[0m\" 304 -\n",
      "127.0.0.1 - - [12/Nov/2021 13:33:01] \"\u001B[36mGET /_dash-component-suites/dash/dcc/async-plotlyjs.js HTTP/1.1\u001B[0m\" 304 -\n",
      "INFO:werkzeug:127.0.0.1 - - [12/Nov/2021 13:33:01] \"\u001B[36mGET /_dash-component-suites/dash/dcc/async-plotlyjs.js HTTP/1.1\u001B[0m\" 304 -\n"
     ]
    }
   ],
   "source": [
    "app  = dash.Dash()\n",
    "country_codes = ['BR', 'CA', 'DE', 'FR', 'GB', 'IN', 'JP', 'KR', 'MX', 'RU', 'US']\n",
    "options_list = []\n",
    "for i in country_codes:\n",
    "    options_list.append({'label': i, 'value': i})\n",
    "\n",
    "df_test  = pd.read_csv(\"Dataset/Titledata/BR_title_totals.csv\")\n",
    "\n",
    "total_titles = np.array(df_test.total_number_of_titles)[0]\n",
    "did_use_par_or_bracks = (np.array(df_test.number_of_titles_with_parenthesis_or_squarebracket_usage)[0]/total_titles)*100\n",
    "did_use_caps = (np.array(df_test.number_of_titles_with_caps_usage)[0]/total_titles)*100\n",
    "did_use_emojis = (np.array(df_test.number_of_titles_with_emoji_usage)[0]/total_titles)*100\n",
    "\n",
    "did_not_use_par_or_bracks = 100 - did_use_par_or_bracks\n",
    "did_not_use_caps = 100 - did_use_caps\n",
    "did_not_use_emojis = 100 - did_use_emojis\n",
    "\n",
    "x = ['Did use () or []', 'Did use CAPS', 'Did use emojis']\n",
    "\n",
    "fig = go.Figure()\n",
    "fig.add_trace(go.Bar(name=\"Yes\", x=x, y=[did_use_par_or_bracks, did_use_caps, did_use_emojis]))\n",
    "fig.add_trace(go.Bar(name=\"No\", x=x, y=[did_not_use_par_or_bracks, did_not_use_caps, did_not_use_emojis]))\n",
    "\n",
    "fig.update_layout(title_text='Titles')\n",
    "fig.update_layout(barmode='stack')\n",
    "fig.update_layout(yaxis_range=(0, 100))\n",
    "\n",
    "\n",
    "\n",
    "app.layout = html.Div(children=[\n",
    "    html.Div(\n",
    "        dcc.Dropdown(id=\"title_drop_down\", options=options_list, value='c'),\n",
    "             style={\"text-align\": \"center\", \"display\": \"inline-block\", \"width\":\"100%\"}),\n",
    "    html.Div(dcc.Graph(id='example-graph',figure=fig),\n",
    "             style={\"text-align\": \"center\", \"display\": \"inline-block\", \"width\":\"100%\"})\n",
    "], style={\"width\": \"800px\", \"border\": \"1px solid black\"})\n",
    "\n",
    "\n",
    "@app.callback(\n",
    "    Output(\"plot_area\",\"children\"),\n",
    "    Input(\"title_drop_down\", \"value\"))\n",
    "def update_output_div(input_value):\n",
    "    return 'Output: {}'.format(input_value)\n",
    "\n",
    "if __name__ == '__main__' :\n",
    "    app.run_server()\n"
   ],
   "metadata": {
    "collapsed": false,
    "pycharm": {
     "name": "#%%\n",
     "is_executing": true
    }
   }
  }
 ],
 "metadata": {
  "kernelspec": {
   "name": "pycharm-b49589b1",
   "language": "python",
   "display_name": "PyCharm (Data-Visualization-Group-5-2021)"
  },
  "language_info": {
   "codemirror_mode": {
    "name": "ipython",
    "version": 2
   },
   "file_extension": ".py",
   "mimetype": "text/x-python",
   "name": "python",
   "nbconvert_exporter": "python",
   "pygments_lexer": "ipython2",
   "version": "2.7.6"
  }
 },
 "nbformat": 4,
 "nbformat_minor": 0
}