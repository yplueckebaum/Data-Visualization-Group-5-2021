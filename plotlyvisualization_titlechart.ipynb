{
 "cells": [
  {
   "cell_type": "code",
   "execution_count": null,
   "metadata": {
    "collapsed": true,
    "pycharm": {
     "name": "#%%\n",
     "is_executing": true
    }
   },
   "outputs": [
    {
     "name": "stdout",
     "output_type": "stream",
     "text": [
      "Dash is running on http://127.0.0.1:8050/\n",
      "\n",
      "Dash is running on http://127.0.0.1:8050/\n",
      "\n",
      "Dash is running on http://127.0.0.1:8050/\n",
      "\n",
      "Dash is running on http://127.0.0.1:8050/\n",
      "\n",
      "Dash is running on http://127.0.0.1:8050/\n",
      "\n",
      "Dash is running on http://127.0.0.1:8050/\n",
      "\n",
      "Dash is running on http://127.0.0.1:8050/\n",
      "\n",
      "Dash is running on http://127.0.0.1:8050/\n",
      "\n",
      "Dash is running on http://127.0.0.1:8050/\n",
      "\n",
      "Dash is running on http://127.0.0.1:8050/\n",
      "\n",
      "Dash is running on http://127.0.0.1:8050/\n",
      "\n",
      "Dash is running on http://127.0.0.1:8050/\n",
      "\n",
      "Dash is running on http://127.0.0.1:8050/\n",
      "\n",
      "Dash is running on http://127.0.0.1:8050/\n",
      "\n",
      "Dash is running on http://127.0.0.1:8050/\n",
      "\n",
      "Dash is running on http://127.0.0.1:8050/\n",
      "\n",
      "Dash is running on http://127.0.0.1:8050/\n",
      "\n",
      "Dash is running on http://127.0.0.1:8050/\n",
      "\n",
      "Dash is running on http://127.0.0.1:8050/\n",
      "\n",
      "Dash is running on http://127.0.0.1:8050/\n",
      "\n",
      "Dash is running on http://127.0.0.1:8050/\n",
      "\n",
      "Dash is running on http://127.0.0.1:8050/\n",
      "\n",
      "Dash is running on http://127.0.0.1:8050/\n",
      "\n",
      "Dash is running on http://127.0.0.1:8050/\n",
      "\n",
      "Dash is running on http://127.0.0.1:8050/\n",
      "\n",
      "Dash is running on http://127.0.0.1:8050/\n",
      "\n",
      "Dash is running on http://127.0.0.1:8050/\n",
      "\n",
      "Dash is running on http://127.0.0.1:8050/\n",
      "\n",
      "Dash is running on http://127.0.0.1:8050/\n",
      "\n",
      "Dash is running on http://127.0.0.1:8050/\n",
      "\n",
      "Dash is running on http://127.0.0.1:8050/\n",
      "\n",
      "Dash is running on http://127.0.0.1:8050/\n",
      "\n",
      "Dash is running on http://127.0.0.1:8050/\n",
      "\n",
      "Dash is running on http://127.0.0.1:8050/\n",
      "\n",
      "Dash is running on http://127.0.0.1:8050/\n",
      "\n",
      "Dash is running on http://127.0.0.1:8050/\n",
      "\n",
      "Dash is running on http://127.0.0.1:8050/\n",
      "\n",
      "Dash is running on http://127.0.0.1:8050/\n",
      "\n",
      "Dash is running on http://127.0.0.1:8050/\n",
      "\n",
      "Dash is running on http://127.0.0.1:8050/\n",
      "\n",
      "Dash is running on http://127.0.0.1:8050/\n",
      "\n",
      "Dash is running on http://127.0.0.1:8050/\n",
      "\n",
      "Dash is running on http://127.0.0.1:8050/\n",
      "\n",
      "Dash is running on http://127.0.0.1:8050/\n",
      "\n",
      "Dash is running on http://127.0.0.1:8050/\n",
      "\n",
      "Dash is running on http://127.0.0.1:8050/\n",
      "\n",
      "Dash is running on http://127.0.0.1:8050/\n",
      "\n",
      "Dash is running on http://127.0.0.1:8050/\n",
      "\n",
      "Dash is running on http://127.0.0.1:8050/\n",
      "\n",
      "Dash is running on http://127.0.0.1:8050/\n",
      "\n",
      "Dash is running on http://127.0.0.1:8050/\n",
      "\n",
      "Dash is running on http://127.0.0.1:8050/\n",
      "\n",
      "Dash is running on http://127.0.0.1:8050/\n",
      "\n",
      "Dash is running on http://127.0.0.1:8050/\n",
      "\n",
      "Dash is running on http://127.0.0.1:8050/\n",
      "\n",
      "Dash is running on http://127.0.0.1:8050/\n",
      "\n",
      "Dash is running on http://127.0.0.1:8050/\n",
      "\n",
      "Dash is running on http://127.0.0.1:8050/\n",
      "\n",
      "Dash is running on http://127.0.0.1:8050/\n",
      "\n",
      "Dash is running on http://127.0.0.1:8050/\n",
      "\n",
      " * Serving Flask app \"__main__\" (lazy loading)\r\n",
      " * Environment: production\r\n",
      "   WARNING: This is a development server. Do not use it in a production deployment.\r\n",
      "   Use a production WSGI server instead.\r\n",
      " * Debug mode: off\r\n"
     ]
    },
    {
     "name": "stderr",
     "output_type": "stream",
     "text": [
      " * Running on http://127.0.0.1:8050/ (Press CTRL+C to quit)\n",
      "127.0.0.1 - - [17/Nov/2021 22:20:21] \"\u001B[37mGET / HTTP/1.1\u001B[0m\" 200 -\n",
      "127.0.0.1 - - [17/Nov/2021 22:20:21] \"\u001B[37mGET /_dash-layout HTTP/1.1\u001B[0m\" 200 -\n",
      "127.0.0.1 - - [17/Nov/2021 22:20:21] \"\u001B[37mGET /_dash-dependencies HTTP/1.1\u001B[0m\" 200 -\n",
      "127.0.0.1 - - [17/Nov/2021 22:20:21] \"\u001B[36mGET /_dash-component-suites/dash/dcc/async-dropdown.js HTTP/1.1\u001B[0m\" 304 -\n",
      "127.0.0.1 - - [17/Nov/2021 22:20:21] \"\u001B[36mGET /_dash-component-suites/dash/dcc/async-graph.js HTTP/1.1\u001B[0m\" 304 -\n",
      "127.0.0.1 - - [17/Nov/2021 22:20:21] \"\u001B[37mPOST /_dash-update-component HTTP/1.1\u001B[0m\" 200 -\n",
      "127.0.0.1 - - [17/Nov/2021 22:20:21] \"\u001B[36mGET /_dash-component-suites/dash/dcc/async-slider.js HTTP/1.1\u001B[0m\" 304 -\n",
      "127.0.0.1 - - [17/Nov/2021 22:20:21] \"\u001B[36mGET /_dash-component-suites/dash/dcc/async-plotlyjs.js HTTP/1.1\u001B[0m\" 304 -\n",
      "127.0.0.1 - - [17/Nov/2021 22:20:21] \"\u001B[37mPOST /_dash-update-component HTTP/1.1\u001B[0m\" 200 -\n"
     ]
    },
    {
     "name": "stdout",
     "output_type": "stream",
     "text": [
      "85593\n",
      "6554\n"
     ]
    },
    {
     "name": "stderr",
     "output_type": "stream",
     "text": [
      "127.0.0.1 - - [17/Nov/2021 22:20:23] \"\u001B[37mPOST /_dash-update-component HTTP/1.1\u001B[0m\" 200 -\n"
     ]
    },
    {
     "name": "stdout",
     "output_type": "stream",
     "text": [
      "0\n",
      "0\n"
     ]
    },
    {
     "name": "stderr",
     "output_type": "stream",
     "text": [
      "127.0.0.1 - - [17/Nov/2021 22:20:25] \"\u001B[37mPOST /_dash-update-component HTTP/1.1\u001B[0m\" 200 -\n"
     ]
    },
    {
     "name": "stdout",
     "output_type": "stream",
     "text": [
      "85544\n",
      "11976\n"
     ]
    },
    {
     "name": "stderr",
     "output_type": "stream",
     "text": [
      "127.0.0.1 - - [17/Nov/2021 22:20:28] \"\u001B[37mPOST /_dash-update-component HTTP/1.1\u001B[0m\" 200 -\n"
     ]
    },
    {
     "name": "stdout",
     "output_type": "stream",
     "text": [
      "7494\n",
      "1576\n"
     ]
    },
    {
     "name": "stderr",
     "output_type": "stream",
     "text": [
      "127.0.0.1 - - [17/Nov/2021 22:23:48] \"\u001B[37mPOST /_dash-update-component HTTP/1.1\u001B[0m\" 200 -\n"
     ]
    },
    {
     "name": "stdout",
     "output_type": "stream",
     "text": [
      "11115\n",
      "1777\n"
     ]
    },
    {
     "name": "stderr",
     "output_type": "stream",
     "text": [
      "127.0.0.1 - - [17/Nov/2021 22:23:49] \"\u001B[37mPOST /_dash-update-component HTTP/1.1\u001B[0m\" 200 -\n"
     ]
    },
    {
     "name": "stdout",
     "output_type": "stream",
     "text": [
      "7494\n",
      "1576\n"
     ]
    },
    {
     "name": "stderr",
     "output_type": "stream",
     "text": [
      "127.0.0.1 - - [17/Nov/2021 22:24:07] \"\u001B[37mPOST /_dash-update-component HTTP/1.1\u001B[0m\" 200 -\n"
     ]
    },
    {
     "name": "stdout",
     "output_type": "stream",
     "text": [
      "0\n",
      "0\n"
     ]
    },
    {
     "name": "stderr",
     "output_type": "stream",
     "text": [
      "127.0.0.1 - - [17/Nov/2021 22:24:08] \"\u001B[37mPOST /_dash-update-component HTTP/1.1\u001B[0m\" 200 -\n"
     ]
    },
    {
     "name": "stdout",
     "output_type": "stream",
     "text": [
      "0\n",
      "0\n"
     ]
    },
    {
     "name": "stderr",
     "output_type": "stream",
     "text": [
      "127.0.0.1 - - [17/Nov/2021 22:24:10] \"\u001B[37mPOST /_dash-update-component HTTP/1.1\u001B[0m\" 200 -\n"
     ]
    },
    {
     "name": "stdout",
     "output_type": "stream",
     "text": [
      "85544\n",
      "11976\n"
     ]
    },
    {
     "name": "stderr",
     "output_type": "stream",
     "text": [
      "127.0.0.1 - - [17/Nov/2021 22:24:12] \"\u001B[37mPOST /_dash-update-component HTTP/1.1\u001B[0m\" 200 -\n",
      "127.0.0.1 - - [17/Nov/2021 22:24:12] \"\u001B[37mPOST /_dash-update-component HTTP/1.1\u001B[0m\" 200 -\n"
     ]
    },
    {
     "name": "stdout",
     "output_type": "stream",
     "text": [
      "75744\n",
      "10888\n"
     ]
    },
    {
     "name": "stderr",
     "output_type": "stream",
     "text": [
      "127.0.0.1 - - [17/Nov/2021 22:24:14] \"\u001B[37mPOST /_dash-update-component HTTP/1.1\u001B[0m\" 200 -\n",
      "127.0.0.1 - - [17/Nov/2021 22:24:14] \"\u001B[37mPOST /_dash-update-component HTTP/1.1\u001B[0m\" 200 -\n"
     ]
    },
    {
     "name": "stdout",
     "output_type": "stream",
     "text": [
      "24947\n",
      "3127\n"
     ]
    },
    {
     "name": "stderr",
     "output_type": "stream",
     "text": [
      "127.0.0.1 - - [17/Nov/2021 22:24:16] \"\u001B[37mPOST /_dash-update-component HTTP/1.1\u001B[0m\" 200 -\n",
      "127.0.0.1 - - [17/Nov/2021 22:24:16] \"\u001B[37mPOST /_dash-update-component HTTP/1.1\u001B[0m\" 200 -\n"
     ]
    },
    {
     "name": "stdout",
     "output_type": "stream",
     "text": [
      "45546\n",
      "6181\n"
     ]
    },
    {
     "name": "stderr",
     "output_type": "stream",
     "text": [
      "127.0.0.1 - - [17/Nov/2021 22:24:19] \"\u001B[37mPOST /_dash-update-component HTTP/1.1\u001B[0m\" 200 -\n"
     ]
    },
    {
     "name": "stdout",
     "output_type": "stream",
     "text": [
      "3243\n",
      "664\n"
     ]
    },
    {
     "name": "stderr",
     "output_type": "stream",
     "text": [
      "127.0.0.1 - - [17/Nov/2021 22:24:25] \"\u001B[37mPOST /_dash-update-component HTTP/1.1\u001B[0m\" 200 -\n"
     ]
    },
    {
     "name": "stdout",
     "output_type": "stream",
     "text": [
      "3492\n",
      "740\n"
     ]
    },
    {
     "name": "stderr",
     "output_type": "stream",
     "text": [
      "127.0.0.1 - - [17/Nov/2021 22:24:28] \"\u001B[37mPOST /_dash-update-component HTTP/1.1\u001B[0m\" 200 -\n",
      "127.0.0.1 - - [17/Nov/2021 22:24:28] \"\u001B[37mPOST /_dash-update-component HTTP/1.1\u001B[0m\" 200 -\n"
     ]
    },
    {
     "name": "stdout",
     "output_type": "stream",
     "text": [
      "1510\n",
      "400\n"
     ]
    },
    {
     "name": "stderr",
     "output_type": "stream",
     "text": [
      "127.0.0.1 - - [17/Nov/2021 22:24:32] \"\u001B[37mPOST /_dash-update-component HTTP/1.1\u001B[0m\" 200 -\n"
     ]
    },
    {
     "name": "stdout",
     "output_type": "stream",
     "text": [
      "0\n",
      "0\n"
     ]
    },
    {
     "name": "stderr",
     "output_type": "stream",
     "text": [
      "127.0.0.1 - - [17/Nov/2021 22:24:33] \"\u001B[37mPOST /_dash-update-component HTTP/1.1\u001B[0m\" 200 -\n"
     ]
    },
    {
     "name": "stdout",
     "output_type": "stream",
     "text": [
      "2333\n",
      "119\n"
     ]
    },
    {
     "name": "stderr",
     "output_type": "stream",
     "text": [
      "127.0.0.1 - - [17/Nov/2021 22:24:36] \"\u001B[37mPOST /_dash-update-component HTTP/1.1\u001B[0m\" 200 -\n"
     ]
    },
    {
     "name": "stdout",
     "output_type": "stream",
     "text": [
      "2273\n",
      "119\n"
     ]
    },
    {
     "name": "stderr",
     "output_type": "stream",
     "text": [
      "127.0.0.1 - - [17/Nov/2021 22:24:39] \"\u001B[37mPOST /_dash-update-component HTTP/1.1\u001B[0m\" 200 -\n"
     ]
    },
    {
     "name": "stdout",
     "output_type": "stream",
     "text": [
      "11599\n",
      "396\n"
     ]
    },
    {
     "name": "stderr",
     "output_type": "stream",
     "text": [
      "127.0.0.1 - - [17/Nov/2021 22:25:00] \"\u001B[37mPOST /_dash-update-component HTTP/1.1\u001B[0m\" 200 -\n"
     ]
    },
    {
     "name": "stdout",
     "output_type": "stream",
     "text": [
      "0\n",
      "0\n"
     ]
    },
    {
     "name": "stderr",
     "output_type": "stream",
     "text": [
      "127.0.0.1 - - [17/Nov/2021 22:28:47] \"\u001B[37mGET / HTTP/1.1\u001B[0m\" 200 -\n",
      "127.0.0.1 - - [17/Nov/2021 22:28:47] \"\u001B[37mGET /_dash-layout HTTP/1.1\u001B[0m\" 200 -\n",
      "127.0.0.1 - - [17/Nov/2021 22:28:47] \"\u001B[37mGET /_dash-dependencies HTTP/1.1\u001B[0m\" 200 -\n",
      "127.0.0.1 - - [17/Nov/2021 22:28:47] \"\u001B[37mGET /_favicon.ico?v=2.0.0 HTTP/1.1\u001B[0m\" 200 -\n",
      "127.0.0.1 - - [17/Nov/2021 22:28:47] \"\u001B[36mGET /_dash-component-suites/dash/dcc/async-dropdown.js HTTP/1.1\u001B[0m\" 304 -\n",
      "127.0.0.1 - - [17/Nov/2021 22:28:47] \"\u001B[37mPOST /_dash-update-component HTTP/1.1\u001B[0m\" 200 -\n",
      "127.0.0.1 - - [17/Nov/2021 22:28:47] \"\u001B[36mGET /_dash-component-suites/dash/dcc/async-plotlyjs.js HTTP/1.1\u001B[0m\" 304 -\n",
      "127.0.0.1 - - [17/Nov/2021 22:28:47] \"\u001B[36mGET /_dash-component-suites/dash/dcc/async-graph.js HTTP/1.1\u001B[0m\" 304 -\n",
      "127.0.0.1 - - [17/Nov/2021 22:28:47] \"\u001B[36mGET /_dash-component-suites/dash/dcc/async-slider.js HTTP/1.1\u001B[0m\" 304 -\n",
      "127.0.0.1 - - [17/Nov/2021 22:28:47] \"\u001B[37mPOST /_dash-update-component HTTP/1.1\u001B[0m\" 200 -\n"
     ]
    },
    {
     "name": "stdout",
     "output_type": "stream",
     "text": [
      "85593\n",
      "6554\n"
     ]
    },
    {
     "name": "stderr",
     "output_type": "stream",
     "text": [
      "127.0.0.1 - - [17/Nov/2021 22:29:04] \"\u001B[37mPOST /_dash-update-component HTTP/1.1\u001B[0m\" 200 -\n"
     ]
    },
    {
     "name": "stdout",
     "output_type": "stream",
     "text": [
      "5663\n",
      "383\n"
     ]
    },
    {
     "name": "stderr",
     "output_type": "stream",
     "text": [
      "127.0.0.1 - - [17/Nov/2021 22:29:05] \"\u001B[37mPOST /_dash-update-component HTTP/1.1\u001B[0m\" 200 -\n",
      "127.0.0.1 - - [17/Nov/2021 22:29:06] \"\u001B[37mPOST /_dash-update-component HTTP/1.1\u001B[0m\" 200 -\n"
     ]
    },
    {
     "name": "stdout",
     "output_type": "stream",
     "text": [
      "4228\n",
      "293\n"
     ]
    },
    {
     "name": "stderr",
     "output_type": "stream",
     "text": [
      "127.0.0.1 - - [17/Nov/2021 22:29:07] \"\u001B[37mPOST /_dash-update-component HTTP/1.1\u001B[0m\" 200 -\n",
      "127.0.0.1 - - [17/Nov/2021 22:29:07] \"\u001B[37mPOST /_dash-update-component HTTP/1.1\u001B[0m\" 200 -\n"
     ]
    },
    {
     "name": "stdout",
     "output_type": "stream",
     "text": [
      "2877\n",
      "180\n"
     ]
    },
    {
     "name": "stderr",
     "output_type": "stream",
     "text": [
      "127.0.0.1 - - [17/Nov/2021 22:29:08] \"\u001B[37mPOST /_dash-update-component HTTP/1.1\u001B[0m\" 200 -\n",
      "127.0.0.1 - - [17/Nov/2021 22:29:08] \"\u001B[37mPOST /_dash-update-component HTTP/1.1\u001B[0m\" 200 -\n"
     ]
    },
    {
     "name": "stdout",
     "output_type": "stream",
     "text": [
      "4228\n",
      "293\n"
     ]
    },
    {
     "name": "stderr",
     "output_type": "stream",
     "text": [
      "127.0.0.1 - - [17/Nov/2021 22:29:10] \"\u001B[37mPOST /_dash-update-component HTTP/1.1\u001B[0m\" 200 -\n",
      "127.0.0.1 - - [17/Nov/2021 22:29:10] \"\u001B[37mPOST /_dash-update-component HTTP/1.1\u001B[0m\" 200 -\n"
     ]
    },
    {
     "name": "stdout",
     "output_type": "stream",
     "text": [
      "5663\n",
      "383\n"
     ]
    },
    {
     "name": "stderr",
     "output_type": "stream",
     "text": [
      "127.0.0.1 - - [17/Nov/2021 22:29:11] \"\u001B[37mPOST /_dash-update-component HTTP/1.1\u001B[0m\" 200 -\n"
     ]
    },
    {
     "name": "stdout",
     "output_type": "stream",
     "text": [
      "85593\n",
      "6554\n"
     ]
    },
    {
     "name": "stderr",
     "output_type": "stream",
     "text": [
      "127.0.0.1 - - [17/Nov/2021 22:29:13] \"\u001B[37mPOST /_dash-update-component HTTP/1.1\u001B[0m\" 200 -\n",
      "127.0.0.1 - - [17/Nov/2021 22:29:14] \"\u001B[37mPOST /_dash-update-component HTTP/1.1\u001B[0m\" 200 -\n"
     ]
    },
    {
     "name": "stdout",
     "output_type": "stream",
     "text": [
      "80193\n",
      "6022\n"
     ]
    },
    {
     "name": "stderr",
     "output_type": "stream",
     "text": [
      "127.0.0.1 - - [17/Nov/2021 22:29:15] \"\u001B[37mPOST /_dash-update-component HTTP/1.1\u001B[0m\" 200 -\n",
      "127.0.0.1 - - [17/Nov/2021 22:29:15] \"\u001B[37mPOST /_dash-update-component HTTP/1.1\u001B[0m\" 200 -\n"
     ]
    },
    {
     "name": "stdout",
     "output_type": "stream",
     "text": [
      "27600\n",
      "2561\n"
     ]
    },
    {
     "name": "stderr",
     "output_type": "stream",
     "text": [
      "127.0.0.1 - - [17/Nov/2021 22:29:17] \"\u001B[37mPOST /_dash-update-component HTTP/1.1\u001B[0m\" 200 -\n"
     ]
    },
    {
     "name": "stdout",
     "output_type": "stream",
     "text": [
      "0\n",
      "0\n"
     ]
    },
    {
     "name": "stderr",
     "output_type": "stream",
     "text": [
      "127.0.0.1 - - [17/Nov/2021 22:29:19] \"\u001B[37mPOST /_dash-update-component HTTP/1.1\u001B[0m\" 200 -\n"
     ]
    },
    {
     "name": "stdout",
     "output_type": "stream",
     "text": [
      "27598\n",
      "4342\n"
     ]
    },
    {
     "name": "stderr",
     "output_type": "stream",
     "text": [
      "127.0.0.1 - - [17/Nov/2021 22:29:22] \"\u001B[37mPOST /_dash-update-component HTTP/1.1\u001B[0m\" 200 -\n"
     ]
    },
    {
     "name": "stdout",
     "output_type": "stream",
     "text": [
      "3291\n",
      "739\n"
     ]
    },
    {
     "name": "stderr",
     "output_type": "stream",
     "text": [
      "127.0.0.1 - - [17/Nov/2021 22:29:24] \"\u001B[37mPOST /_dash-update-component HTTP/1.1\u001B[0m\" 200 -\n",
      "127.0.0.1 - - [17/Nov/2021 22:29:24] \"\u001B[37mPOST /_dash-update-component HTTP/1.1\u001B[0m\" 200 -\n"
     ]
    },
    {
     "name": "stdout",
     "output_type": "stream",
     "text": [
      "5784\n",
      "1273\n"
     ]
    },
    {
     "name": "stderr",
     "output_type": "stream",
     "text": [
      "127.0.0.1 - - [17/Nov/2021 22:29:25] \"\u001B[37mPOST /_dash-update-component HTTP/1.1\u001B[0m\" 200 -\n",
      "127.0.0.1 - - [17/Nov/2021 22:29:25] \"\u001B[37mPOST /_dash-update-component HTTP/1.1\u001B[0m\" 200 -\n"
     ]
    },
    {
     "name": "stdout",
     "output_type": "stream",
     "text": [
      "6629\n",
      "1388\n"
     ]
    },
    {
     "name": "stderr",
     "output_type": "stream",
     "text": [
      "127.0.0.1 - - [17/Nov/2021 22:29:27] \"\u001B[37mPOST /_dash-update-component HTTP/1.1\u001B[0m\" 200 -\n",
      "127.0.0.1 - - [17/Nov/2021 22:29:27] \"\u001B[37mPOST /_dash-update-component HTTP/1.1\u001B[0m\" 200 -\n"
     ]
    },
    {
     "name": "stdout",
     "output_type": "stream",
     "text": [
      "448\n",
      "74\n"
     ]
    }
   ],
   "source": [
    "import plotly.graph_objects as go\n",
    "import dash\n",
    "import plotly.express as px\n",
    "\n",
    "import dash_html_components as html\n",
    "\n",
    "import dash_core_components as dcc\n",
    "from dash.dependencies import Input, Output\n",
    "import plotly.offline as pyo\n",
    "import numpy as np\n",
    "import pandas as pd\n",
    "from os.path import exists\n",
    "\n",
    "app  = dash.Dash()\n",
    "country_codes = ['BR', 'CA', 'DE', 'FR', 'GB', 'IN', 'JP', 'KR', 'MX', 'RU', 'US']\n",
    "category_ids_to_names_dict = {1: \"Film & Animation\",\n",
    "2: \"Autos & Vehicles\",\n",
    "10: \"Music\",\n",
    "15: \"Pets & Animals\",\n",
    "17: \"Sports\",\n",
    "18: \"Short Movies\",\n",
    "19: \"Travel & Events\",\n",
    "20: \"Gaming\",\n",
    "21: \"Videoblogging\",\n",
    "22: \"People & Blogs\",\n",
    "23: \"Comedy\",\n",
    "24: \"Entertainment\",\n",
    "25: \"News & Politics\",\n",
    "26: \"Howto & Style\",\n",
    "27: \"Education\",\n",
    "28: \"Science & Technology\",\n",
    "29: \"Nonprofits & Activism\",\n",
    "30: \"Movies\",\n",
    "31: \"Anime/Animation\",\n",
    "32: \"Action/Adventure\",\n",
    "33: \"Classics\",\n",
    "34: \"Comedy\",\n",
    "35: \"Documentary\",\n",
    "36: \"Drama\",\n",
    "37: \"Family\",\n",
    "38: \"Foreign\",\n",
    "39: \"Horror\",\n",
    "40: \"Sci-Fi/Fantasy\",\n",
    "41: \"Thriller\",\n",
    "42: \"Shorts\",\n",
    "43: \"Shows\",\n",
    "44: \"Trailers\"}\n",
    "\n",
    "category_names_to_ids_dict = {\"Film & Animation\":1,\n",
    "\"Autos & Vehicles\":2,\n",
    "\"Music\":10,\n",
    "\"Pets & Animals\":15,\n",
    "\"Sports\":17,\n",
    "\"Short Movies\":18,\n",
    "\"Travel & Events\":19,\n",
    "\"Gaming\":20,\n",
    "\"Videoblogging\":21,\n",
    "\"People & Blogs\":22,\n",
    "\"Comedy\":23,\n",
    "\"Entertainment\":24,\n",
    "\"News & Politics\":25,\n",
    "\"Howto & Style\":26,\n",
    "\"Education\":27,\n",
    "\"Science & Technology\":28,\n",
    "\"Nonprofits & Activism\":29,\n",
    "\"Movies\":30,\n",
    "\"Anime/Animation\":31,\n",
    "\"Action/Adventure\":32,\n",
    "\"Classics\":33,\n",
    "\"Comedy\":34,\n",
    "\"Documentary\":35,\n",
    "\"Drama\":36,\n",
    "\"Family\":37,\n",
    "\"Foreign\":38,\n",
    "\"Horror\":39,\n",
    "\"Sci-Fi/Fantasy\":40,\n",
    "\"Thriller\":41,\n",
    "\"Shorts\":42,\n",
    "\"Shows\":43,\n",
    "\"Trailers\":44}\n",
    "\n",
    "dates_from_processed_dataset = pd.read_csv(\"processed_dataset.csv\", usecols=[7])\n",
    "dates_from_processed_dataset.sort_values('trending_date')\n",
    "unique_dates = dates_from_processed_dataset.trending_date.unique()\n",
    "unique_dates = np.array(unique_dates)\n",
    "no_of_unique_dates = len(unique_dates)\n",
    "\n",
    "country_list = []\n",
    "for i in country_codes:\n",
    "    country_list.append({'label': i, 'value': i})\n",
    "\n",
    "categories_list = []\n",
    "for (key, value) in category_ids_to_names_dict.items():\n",
    "    categories_list.append({'label': value, 'value': value})\n",
    "\n",
    "current_data_set = \"Dataset/Titledata/BR/BR_title_totals.csv\"\n",
    "df_test  = pd.read_csv(current_data_set)\n",
    "\n",
    "total_titles = np.array(df_test.total_number_of_titles)[0]\n",
    "did_use_par_or_bracks = (np.array(df_test.number_of_titles_with_parenthesis_or_squarebracket_usage)[0]/total_titles)*100\n",
    "did_use_caps = (np.array(df_test.number_of_titles_with_caps_usage)[0]/total_titles)*100\n",
    "did_use_emojis = (np.array(df_test.number_of_titles_with_emoji_usage)[0]/total_titles)*100\n",
    "\n",
    "did_not_use_par_or_bracks = 100 - did_use_par_or_bracks\n",
    "did_not_use_caps = 100 - did_use_caps\n",
    "did_not_use_emojis = 100 - did_use_emojis\n",
    "\n",
    "x = ['Did use () or []', 'Did use CAPS', 'Did use emojis']\n",
    "\n",
    "fig = go.Figure()\n",
    "fig.add_trace(go.Bar(name=\"Yes\", x=x, y=[did_use_par_or_bracks, did_use_caps, did_use_emojis], marker_color='rgb(44, 127, 184)'))\n",
    "fig.add_trace(go.Bar(name=\"No\", x=x, y=[did_not_use_par_or_bracks, did_not_use_caps, did_not_use_emojis], marker_color='rgb(254, 178, 76)'))\n",
    "\n",
    "fig.update_layout(yaxis_title=\"Percentage of videos\",)\n",
    "fig.update_layout(title_text='Titles')\n",
    "fig.update_layout(barmode='stack')\n",
    "fig.update_layout(yaxis_range=(0, 100))\n",
    "\n",
    "app.layout = html.Div(children=[\n",
    "    html.Div(\n",
    "        dcc.Dropdown(\n",
    "            id=\"title_drop_down\",\n",
    "            options=country_list,\n",
    "            value=['BR'],\n",
    "            multi=True\n",
    "        ),\n",
    "        style={\"text-align\": \"center\", \"display\": \"inline-block\", \"width\":\"100%\"}),\n",
    "    html.Div(\n",
    "        dcc.Dropdown(id=\"categories_drop_down\", options=categories_list, value=[], multi=True),\n",
    "             style={\"text-align\": \"center\", \"display\": \"inline-block\", \"width\":\"100%\"}),\n",
    "    html.Div(dcc.Graph(id='title_bar_chart',figure=fig),\n",
    "             style={\"text-align\": \"center\", \"display\": \"inline-block\", \"width\":\"100%\"}),\n",
    "    html.Div(dcc.RangeSlider(\n",
    "            id=\"dataslider\",\n",
    "            min=0,\n",
    "            max=no_of_unique_dates,\n",
    "            updatemode='mouseup',\n",
    "            step=1,\n",
    "            value=[0, no_of_unique_dates],\n",
    "            pushable=1), style={\"text-align\": \"center\", \"display\": \"inline-block\", \"width\":\"100%\"}),\n",
    "     html.Div(id='my-output', style={\"text-align\": \"center\", \"display\": \"inline-block\", \"width\":\"100%\"})\n",
    "            ], style={\"width\": \"800px\", \"border\": \"1px solid black\"})\n",
    "\n",
    "\n",
    "def update_data(input_countries, input_categories, slider_interval):\n",
    "\n",
    "    #Should not use global - But only if multi-user session according to the tutorials!\n",
    "    global current_data_set, df_test, total_titles, did_use_par_or_bracks, did_use_caps, did_use_emojis, did_not_use_par_or_bracks, did_not_use_caps, did_not_use_emojis\n",
    "\n",
    "    total_titles = 0\n",
    "    did_use_par_or_bracks = 0\n",
    "    did_use_caps = 0\n",
    "    did_use_emojis = 0\n",
    "    did_not_use_par_or_bracks = 0\n",
    "    did_not_use_caps = 0\n",
    "    did_not_use_emojis = 0\n",
    "\n",
    "    for input_country in input_countries:\n",
    "        if len(input_categories) == 0:\n",
    "            if slider_interval[0] == 0 and slider_interval[1] == no_of_unique_dates:\n",
    "                current_data_set = \"Dataset/Titledata/\" + input_country + \"/\" + input_country + \"_title_totals.csv\"\n",
    "                df_test  = pd.read_csv(current_data_set)\n",
    "\n",
    "                total_titles += np.array(df_test.total_number_of_titles)[0]\n",
    "                did_use_par_or_bracks += np.array(df_test.number_of_titles_with_parenthesis_or_squarebracket_usage)[0]\n",
    "                did_use_caps += np.array(df_test.number_of_titles_with_caps_usage)[0]\n",
    "                did_use_emojis += np.array(df_test.number_of_titles_with_emoji_usage)[0]\n",
    "            else:\n",
    "                current_data_set = \"Dataset/Titledata/\" + input_country + \"/\" + input_country + \"_allcategories_totals_per_day.csv\"\n",
    "                df_test  = pd.read_csv(current_data_set)\n",
    "                mask = (df_test['date'] >= unique_dates[slider_interval[0]]) & (df_test['date'] <= unique_dates[slider_interval[1]-1])\n",
    "                df_test = df_test.loc[mask]\n",
    "\n",
    "                for index, row in df_test.iterrows():\n",
    "                    total_titles += row['total_number_of_titles']\n",
    "                    did_use_par_or_bracks += row['number_of_titles_with_parenthesis_or_squarebracket_usage']\n",
    "                    did_use_caps += row['number_of_titles_with_caps_usage']\n",
    "                    did_use_emojis += row['number_of_titles_with_emoji_usage']\n",
    "        else:\n",
    "            for input_category in input_categories:\n",
    "                category_id = category_names_to_ids_dict[input_category]\n",
    "                current_data_set = \"Dataset/Titledata/\" + input_country + \"/\" + input_country + \"_category\" + str(category_id) + \"_totals_per_day.csv\"\n",
    "                file_exists = exists(current_data_set)\n",
    "                if file_exists:\n",
    "                    df_test  = pd.read_csv(current_data_set)\n",
    "                else:\n",
    "                    continue\n",
    "\n",
    "                mask = (df_test['date'] >= unique_dates[slider_interval[0]]) & (df_test['date'] <= unique_dates[slider_interval[1]-1])\n",
    "                df_test = df_test.loc[mask]\n",
    "\n",
    "                for index, row in df_test.iterrows():\n",
    "                    total_titles += row['total_number_of_titles']\n",
    "                    did_use_par_or_bracks += row['number_of_titles_with_parenthesis_or_squarebracket_usage']\n",
    "                    did_use_caps += row['number_of_titles_with_caps_usage']\n",
    "                    did_use_emojis += row['number_of_titles_with_emoji_usage']\n",
    "                #total_titles += np.array(df_test.total_number_of_titles)[0]\n",
    "                #did_use_par_or_bracks += np.array(df_test.number_of_titles_with_parenthesis_or_squarebracket_usage)[0]\n",
    "                #did_use_caps += np.array(df_test.number_of_titles_with_caps_usage)[0]\n",
    "                #did_use_emojis += np.array(df_test.number_of_titles_with_emoji_usage)[0]\n",
    "    did_use_par_or_bracks = (did_use_par_or_bracks/total_titles)*100 if total_titles > 0 else 0\n",
    "    did_use_caps = (did_use_caps/total_titles)*100 if total_titles > 0 else 0\n",
    "    did_use_emojis = (did_use_emojis/total_titles)*100 if total_titles > 0 else 0\n",
    "\n",
    "    did_not_use_par_or_bracks = 100 - did_use_par_or_bracks if total_titles > 0 else 0\n",
    "    did_not_use_caps = 100 - did_use_caps if total_titles > 0 else 0\n",
    "    did_not_use_emojis = 100 - did_use_emojis if total_titles > 0 else 0\n",
    "\n",
    "@app.callback(\n",
    "    Output(component_id='title_bar_chart', component_property='figure'),\n",
    "    Input(\"title_drop_down\", \"value\"),\n",
    "    Input(\"categories_drop_down\", \"value\"),\n",
    "    Input(\"dataslider\", \"value\"))\n",
    "def update_output_div(input_countries, input_categories, slider_interval):\n",
    "    update_data(input_countries, input_categories, slider_interval)\n",
    "\n",
    "    fig = go.Figure()\n",
    "    fig.add_trace(go.Bar(name=\"Yes\", x=x, y=[did_use_par_or_bracks, did_use_caps, did_use_emojis], marker_color='rgb(44, 127, 184)'))\n",
    "    fig.add_trace(go.Bar(name=\"No\", x=x, y=[did_not_use_par_or_bracks, did_not_use_caps, did_not_use_emojis], marker_color='rgb(254, 178, 76)'))\n",
    "\n",
    "    fig.update_layout(title_text='Titles')\n",
    "    fig.update_layout(barmode='stack')\n",
    "    fig.update_layout(yaxis_range=(0, 100))\n",
    "    fig.update_layout(transition={\n",
    "                'duration': 500,\n",
    "                'easing': 'cubic-in-out'\n",
    "        })\n",
    "\n",
    "    return fig\n",
    "\n",
    "@app.callback(\n",
    "    Output('my-output', component_property='children'),\n",
    "    Input('dataslider', 'value'))\n",
    "def settext(slider_interval):\n",
    "    return unique_dates[slider_interval[0]] + \" - \" + unique_dates[slider_interval[1]-1]\n",
    "\n",
    "if __name__ == '__main__' :\n",
    "    app.run_server()\n"
   ]
  }
 ],
 "metadata": {
  "kernelspec": {
   "name": "pycharm-b49589b1",
   "language": "python",
   "display_name": "PyCharm (Data-Visualization-Group-5-2021)"
  },
  "language_info": {
   "codemirror_mode": {
    "name": "ipython",
    "version": 2
   },
   "file_extension": ".py",
   "mimetype": "text/x-python",
   "name": "python",
   "nbconvert_exporter": "python",
   "pygments_lexer": "ipython2",
   "version": "2.7.6"
  }
 },
 "nbformat": 4,
 "nbformat_minor": 0
}