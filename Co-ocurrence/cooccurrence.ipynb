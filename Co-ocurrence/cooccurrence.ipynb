{
 "cells": [
  {
   "cell_type": "code",
   "execution_count": 1,
   "outputs": [],
   "source": [
    "import matplotlib.pyplot as plt\n",
    "import pandas as pd\n",
    "import numpy as np\n",
    "import seaborn as sns\n",
    "import tables\n",
    "import math\n",
    "import csv\n",
    "import scipy\n",
    "from scipy.sparse import load_npz\n",
    "from scipy.sparse import dok_matrix\n",
    "from scipy.sparse import save_npz\n",
    "from cooccurrence import CoOccurrence"
   ],
   "metadata": {
    "collapsed": false,
    "pycharm": {
     "name": "#%%\n"
    }
   }
  },
  {
   "cell_type": "code",
   "execution_count": 2,
   "outputs": [],
   "source": [
    "cooccurrence = CoOccurrence()\n",
    "\n",
    "#make object"
   ],
   "metadata": {
    "collapsed": false,
    "pycharm": {
     "name": "#%%\n"
    }
   }
  },
  {
   "cell_type": "code",
   "execution_count": 3,
   "outputs": [
    {
     "name": "stdout",
     "output_type": "stream",
     "text": [
      "916102\n",
      "0%\n"
     ]
    }
   ],
   "source": [
    "# count matrix cooccurrence and occurrence of each tag\n",
    "tag_matrix, tag_dict = cooccurrence.generate_occurrences(np.uint32,True)"
   ],
   "metadata": {
    "collapsed": false,
    "pycharm": {
     "name": "#%%\n"
    }
   }
  },
  {
   "cell_type": "code",
   "execution_count": 4,
   "outputs": [
    {
     "name": "stdout",
     "output_type": "stream",
     "text": [
      "423\n",
      "423\n"
     ]
    }
   ],
   "source": [
    "# or import\n",
    "tag_matrix, tag_dict = cooccurrence.import_occurrences()"
   ],
   "metadata": {
    "collapsed": false,
    "pycharm": {
     "name": "#%%\n"
    }
   }
  },
  {
   "cell_type": "code",
   "execution_count": null,
   "outputs": [],
   "source": [
    "    # calculate distrance matrix\n",
    "        # find occurrence of every tag"
   ],
   "metadata": {
    "collapsed": false,
    "pycharm": {
     "name": "#%%\n"
    }
   }
  },
  {
   "cell_type": "code",
   "execution_count": 9,
   "outputs": [],
   "source": [
    "        # convert to graph(undirected -> uses triangle)\n",
    "from networkx.convert_matrix import from_scipy_sparse_matrix\n",
    "import networkx as nx\n",
    "tag_graph= from_scipy_sparse_matrix(tag_matrix,parallel_edges=False,create_using=nx.Graph)#default graph should be undirected"
   ],
   "metadata": {
    "collapsed": false,
    "pycharm": {
     "name": "#%%\n"
    }
   }
  },
  {
   "cell_type": "code",
   "execution_count": null,
   "outputs": [],
   "source": [
    "        # edge weight depends on cooccurrence\n",
    "        #option 1: convert to graph networkx and use graph distance\n",
    "            # cluster with https://github.com/trueprice/python-graph-clustering\n",
    "        #option 2 find distance metric and cluster based on resulting distance matrix\n",
    "            # construct distance matrix from matrix(is that possible without imploding? How to optimize)\n",
    "            # cluster with precomputed distance measure using sklearn.cluster.AffinityPropagation\n",
    "            # profit\n"
   ],
   "metadata": {
    "collapsed": false,
    "pycharm": {
     "name": "#%%\n"
    }
   }
  },
  {
   "cell_type": "code",
   "execution_count": null,
   "outputs": [],
   "source": [
    "    #integrate into pyplot\n",
    "        # size of bubble is the occureence of that tag\n",
    "        # minimum weight for appearence\n",
    "\n",
    "\n"
   ],
   "metadata": {
    "collapsed": false,
    "pycharm": {
     "name": "#%%\n"
    }
   }
  }
 ],
 "metadata": {
  "kernelspec": {
   "display_name": "Python 3",
   "language": "python",
   "name": "python3"
  },
  "language_info": {
   "codemirror_mode": {
    "name": "ipython",
    "version": 2
   },
   "file_extension": ".py",
   "mimetype": "text/x-python",
   "name": "python",
   "nbconvert_exporter": "python",
   "pygments_lexer": "ipython2",
   "version": "2.7.6"
  }
 },
 "nbformat": 4,
 "nbformat_minor": 0
}