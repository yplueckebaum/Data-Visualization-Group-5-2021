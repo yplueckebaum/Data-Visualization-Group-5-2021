{
 "cells": [
  {
   "cell_type": "markdown",
   "source": [
    "todo:\n",
    "- [x] add \"tagged\" column\n",
    "- [x] add category_meaning with string\n",
    "- [x] add region column\n",
    "- [ ] add localtime column for upload & trending date"
   ],
   "metadata": {
    "collapsed": false,
    "pycharm": {
     "name": "#%% md\n"
    }
   }
  },
  {
   "cell_type": "code",
   "execution_count": null,
   "metadata": {
    "collapsed": true
   },
   "outputs": [],
   "source": [
    "import json\n",
    "import time\n",
    "import datetime\n",
    "import numpy as np\n",
    "import os\n",
    "import glob\n",
    "import seaborn as sb\n",
    "import matplotlib as plt\n",
    "import pandas as pd\n",
    "%matplotlib inline"
   ]
  },
  {
   "cell_type": "code",
   "execution_count": null,
   "outputs": [],
   "source": [
    "# parameter requirements when converting code to function\n",
    "#timezone_delay = time\n",
    "csv_path = \"../Dataset/DE_youtube_trending_data.csv\"\n",
    "json_path = \"../Dataset/DE_category_id.json\""
   ],
   "metadata": {
    "collapsed": false,
    "pycharm": {
     "name": "#%%\n"
    }
   }
  },
  {
   "cell_type": "code",
   "execution_count": null,
   "outputs": [],
   "source": [
    "region = json_path.split('/')[2][:2]\n",
    "df = pd.read_csv(csv_path)\n",
    "df.head()"
   ],
   "metadata": {
    "collapsed": false,
    "pycharm": {
     "name": "#%%\n"
    }
   }
  },
  {
   "cell_type": "code",
   "execution_count": null,
   "outputs": [],
   "source": [
    "#df.replace(\"[None]\",np.nan,inplace=True)\n",
    "#NaN = tags missing, None = no tags chosen\n",
    "df.head()"
   ],
   "metadata": {
    "collapsed": false,
    "pycharm": {
     "name": "#%%\n"
    }
   }
  },
  {
   "cell_type": "code",
   "execution_count": null,
   "outputs": [],
   "source": [
    "missing_data = df.isnull()\n",
    "#missing_data.head(100)\n",
    "\n",
    "for column in missing_data.columns.values.tolist():\n",
    "    print(column)\n",
    "    print(missing_data[column].value_counts())"
   ],
   "metadata": {
    "collapsed": false,
    "pycharm": {
     "name": "#%% missing values\n"
    }
   }
  },
  {
   "cell_type": "code",
   "execution_count": null,
   "outputs": [],
   "source": [
    "#filter\n",
    "df.loc[:].describe()"
   ],
   "metadata": {
    "collapsed": false,
    "pycharm": {
     "name": "#%%\n"
    }
   }
  },
  {
   "cell_type": "code",
   "execution_count": null,
   "outputs": [],
   "source": [
    "# add column with string meaning\n",
    "category_file = open(json_path)\n",
    "category_file = json.load(category_file)"
   ],
   "metadata": {
    "collapsed": false,
    "pycharm": {
     "name": "#%%\n"
    }
   }
  },
  {
   "cell_type": "code",
   "execution_count": null,
   "outputs": [],
   "source": [
    "# create readable category\n",
    "category_list = [0 for i in range(0,44 +1)]\n",
    "for elem in category_file['items']:\n",
    "    category_list[int(elem['id'])] = elem['snippet']['title']\n",
    "[category for category in category_list if category != 0]"
   ],
   "metadata": {
    "collapsed": false,
    "pycharm": {
     "name": "#%%\n"
    }
   }
  },
  {
   "cell_type": "code",
   "execution_count": null,
   "outputs": [],
   "source": [
    "#generate column that fits category from dataframe\n",
    "category_text_column = []\n",
    "for item  in df['categoryId']:\n",
    "    category_text_column.append(category_list[item])\n",
    "category_text_column[:10]"
   ],
   "metadata": {
    "collapsed": false,
    "pycharm": {
     "name": "#%%\n"
    }
   }
  },
  {
   "cell_type": "code",
   "execution_count": null,
   "outputs": [],
   "source": [
    "# add categories to dataframe\n",
    "df['category_text'] = category_text_column\n",
    "df"
   ],
   "metadata": {
    "collapsed": false,
    "pycharm": {
     "name": "#%%\n"
    }
   }
  },
  {
   "cell_type": "markdown",
   "source": [
    "### add tagged column"
   ],
   "metadata": {
    "collapsed": false
   }
  },
  {
   "cell_type": "code",
   "execution_count": null,
   "outputs": [],
   "source": [
    "tagged = []\n",
    "for tag in df['tags']:\n",
    "    if tag == \"[None]\":\n",
    "        tagged.append(False)\n",
    "    else:\n",
    "        tagged.append(True)\n",
    "df['tagged'] = tagged\n",
    "df_print = pd.DataFrame(df,columns=['tags','tagged'])\n",
    "df_print.iloc[:10]"
   ],
   "metadata": {
    "collapsed": false,
    "pycharm": {
     "name": "#%%\n"
    }
   }
  },
  {
   "cell_type": "markdown",
   "source": [
    "add region column"
   ],
   "metadata": {
    "collapsed": false,
    "pycharm": {
     "name": "#%% md\n"
    }
   }
  },
  {
   "cell_type": "code",
   "execution_count": null,
   "outputs": [],
   "source": [
    "region_column = []\n",
    "for i in range(df.shape[0]):\n",
    "    region_column.append(region)\n",
    "df['region'] = region_column\n",
    "df.iloc[:4]"
   ],
   "metadata": {
    "collapsed": false,
    "pycharm": {
     "name": "#%%\n"
    }
   }
  },
  {
   "cell_type": "markdown",
   "source": [
    "### add local time\n",
    "https://www.kaggle.com/rsrishav/youtube-trending-video-dataset/discussion/249956 -> data is in standard time"
   ],
   "metadata": {
    "collapsed": false,
    "pycharm": {
     "name": "#%% md\n"
    }
   }
  },
  {
   "cell_type": "code",
   "execution_count": null,
   "outputs": [],
   "source": [
    "test = df['publishedAt'][0]\n",
    "print(test)\n",
    "#2020-08-11T18:00:03Z\n",
    "#change time format to be not terrible\n",
    "format_date = '%Y-%m-%dT%H:%M:%SZ'\n",
    "for row in enumerate(df['publishedAt']):# todo iterate through dataset\n",
    "    df['publishedAt'][idx] =datetime.datetime.strptime(date,format_date)"
   ],
   "metadata": {
    "collapsed": false,
    "pycharm": {
     "name": "#%%\n"
    }
   }
  },
  {
   "cell_type": "code",
   "execution_count": null,
   "outputs": [],
   "source": [
    "\"\"\"\n",
    "timezones = dict([\n",
    "    'BR' =\n",
    "])\"\"\""
   ],
   "metadata": {
    "collapsed": false,
    "pycharm": {
     "name": "#%%\n"
    }
   }
  }
 ],
 "metadata": {
  "kernelspec": {
   "display_name": "Python 3",
   "language": "python",
   "name": "python3"
  },
  "language_info": {
   "codemirror_mode": {
    "name": "ipython",
    "version": 2
   },
   "file_extension": ".py",
   "mimetype": "text/x-python",
   "name": "python",
   "nbconvert_exporter": "python",
   "pygments_lexer": "ipython2",
   "version": "2.7.6"
  }
 },
 "nbformat": 4,
 "nbformat_minor": 0
}