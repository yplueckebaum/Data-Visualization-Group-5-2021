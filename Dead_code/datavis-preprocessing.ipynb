{
 "cells": [
  {
   "cell_type": "markdown",
   "source": [
    "todo:\n",
    "- [x] add \"tagged\" column\n",
    "- [x] add category_meaning with string\n",
    "- [x] add region column\n",
    "- [ ] add localtime column for upload & trending date"
   ],
   "metadata": {
    "collapsed": false,
    "pycharm": {
     "name": "#%% md\n"
    }
   }
  },
  {
   "cell_type": "code",
   "execution_count": 14,
   "metadata": {
    "collapsed": true
   },
   "outputs": [],
   "source": [
    "import json\n",
    "import time\n",
    "import datetime\n",
    "import numpy as np\n",
    "import os\n",
    "import glob\n",
    "import seaborn as sb\n",
    "import matplotlib as plt\n",
    "import pandas as pd\n",
    "%matplotlib inline"
   ]
  },
  {
   "cell_type": "code",
   "execution_count": 15,
   "outputs": [],
   "source": [
    "# parameter requirements when converting code to function\n",
    "#timezone_delay = time\n",
    "csv_path = \"Dataset/DE_youtube_trending_data.csv\"\n",
    "json_path = \"Dataset/DE_category_id.json\""
   ],
   "metadata": {
    "collapsed": false,
    "pycharm": {
     "name": "#%%\n"
    }
   }
  },
  {
   "cell_type": "code",
   "execution_count": 16,
   "outputs": [
    {
     "data": {
      "text/plain": "      video_id                                              title  \\\n0  KJi2qg5F-9E                     Bonez MC - HOLLYWOOD (Snippet)   \n1  K0vYnOn7wZI  Nik hat heftige Probleme in Köln! 😱😫 #1925 | K...   \n2  2bbn9b79LRc  Camper Tour 2020 - ROADTRIP durch Österreich |...   \n3  Zv-3qNnAMaM  Ich TESTE SHEIN BIKINIS (try on haul) - UNMÖGL...   \n4  7clgQLneouU  STATEMENT zu meinem BAN! 😒 | Bald vielleicht P...   \n\n            publishedAt                 channelId   channelTitle  categoryId  \\\n0  2020-08-11T18:00:03Z  UCGh8tmH9x9njaI2mXfh2fyg       CrhymeTV          10   \n1  2020-08-11T17:00:09Z  UCnrvUg5MJWPDSrv_voT7AqA     Köln 50667          24   \n2  2020-08-11T18:00:00Z  UCBt8RY61tvanrhkzeZdNICw     AnaJohnson          24   \n3  2020-08-12T09:00:08Z  UCccDoH6QpRCjjcMgl5f88wA  Einfach Marci          24   \n4  2020-08-11T12:00:02Z  UC8E8eD7mOcnMazJT4laKbFQ           Domo          24   \n\n          trending_date                                               tags  \\\n0  2020-08-12T00:00:00Z  187|187 Strassenbande|BONEZ MC|RAF Camora|MAXW...   \n1  2020-08-12T00:00:00Z  Köln|50667|RTL2|RTL|Serie|k50667|ganze folge|t...   \n2  2020-08-12T00:00:00Z  camper tour|camper tour deutsch|camper tour de...   \n3  2020-08-12T00:00:00Z                                             [None]   \n4  2020-08-12T00:00:00Z  Papaplatte|papaplatte twitch best of|papaplatt...   \n\n   view_count  likes  dislikes  comment_count  \\\n0      573902  69319       970           3311   \n1      381375  13637       435            866   \n2      142296   9480       144            364   \n3       55640   3420       124            229   \n4      233899  25251       375           1051   \n\n                                   thumbnail_link  comments_disabled  \\\n0  https://i.ytimg.com/vi/KJi2qg5F-9E/default.jpg              False   \n1  https://i.ytimg.com/vi/K0vYnOn7wZI/default.jpg              False   \n2  https://i.ytimg.com/vi/2bbn9b79LRc/default.jpg              False   \n3  https://i.ytimg.com/vi/Zv-3qNnAMaM/default.jpg              False   \n4  https://i.ytimg.com/vi/7clgQLneouU/default.jpg              False   \n\n   ratings_disabled                                        description  \n0             False  Hollywood Fanbox vorbestellen ► http://bonezmc...  \n1             False  Toni gerät in Panik, als plötzlich ein Unbekan...  \n2             False  Mehr von unserem Trip quer durch Deutschland, ...  \n3             False  Heii Cuties,Was soll ich in kommender Zeit noc...  \n4             False  Domo hier! Abonnieren! Liken! Genießen!\\r\\rWen...  ",
      "text/html": "<div>\n<style scoped>\n    .dataframe tbody tr th:only-of-type {\n        vertical-align: middle;\n    }\n\n    .dataframe tbody tr th {\n        vertical-align: top;\n    }\n\n    .dataframe thead th {\n        text-align: right;\n    }\n</style>\n<table border=\"1\" class=\"dataframe\">\n  <thead>\n    <tr style=\"text-align: right;\">\n      <th></th>\n      <th>video_id</th>\n      <th>title</th>\n      <th>publishedAt</th>\n      <th>channelId</th>\n      <th>channelTitle</th>\n      <th>categoryId</th>\n      <th>trending_date</th>\n      <th>tags</th>\n      <th>view_count</th>\n      <th>likes</th>\n      <th>dislikes</th>\n      <th>comment_count</th>\n      <th>thumbnail_link</th>\n      <th>comments_disabled</th>\n      <th>ratings_disabled</th>\n      <th>description</th>\n    </tr>\n  </thead>\n  <tbody>\n    <tr>\n      <th>0</th>\n      <td>KJi2qg5F-9E</td>\n      <td>Bonez MC - HOLLYWOOD (Snippet)</td>\n      <td>2020-08-11T18:00:03Z</td>\n      <td>UCGh8tmH9x9njaI2mXfh2fyg</td>\n      <td>CrhymeTV</td>\n      <td>10</td>\n      <td>2020-08-12T00:00:00Z</td>\n      <td>187|187 Strassenbande|BONEZ MC|RAF Camora|MAXW...</td>\n      <td>573902</td>\n      <td>69319</td>\n      <td>970</td>\n      <td>3311</td>\n      <td>https://i.ytimg.com/vi/KJi2qg5F-9E/default.jpg</td>\n      <td>False</td>\n      <td>False</td>\n      <td>Hollywood Fanbox vorbestellen ► http://bonezmc...</td>\n    </tr>\n    <tr>\n      <th>1</th>\n      <td>K0vYnOn7wZI</td>\n      <td>Nik hat heftige Probleme in Köln! 😱😫 #1925 | K...</td>\n      <td>2020-08-11T17:00:09Z</td>\n      <td>UCnrvUg5MJWPDSrv_voT7AqA</td>\n      <td>Köln 50667</td>\n      <td>24</td>\n      <td>2020-08-12T00:00:00Z</td>\n      <td>Köln|50667|RTL2|RTL|Serie|k50667|ganze folge|t...</td>\n      <td>381375</td>\n      <td>13637</td>\n      <td>435</td>\n      <td>866</td>\n      <td>https://i.ytimg.com/vi/K0vYnOn7wZI/default.jpg</td>\n      <td>False</td>\n      <td>False</td>\n      <td>Toni gerät in Panik, als plötzlich ein Unbekan...</td>\n    </tr>\n    <tr>\n      <th>2</th>\n      <td>2bbn9b79LRc</td>\n      <td>Camper Tour 2020 - ROADTRIP durch Österreich |...</td>\n      <td>2020-08-11T18:00:00Z</td>\n      <td>UCBt8RY61tvanrhkzeZdNICw</td>\n      <td>AnaJohnson</td>\n      <td>24</td>\n      <td>2020-08-12T00:00:00Z</td>\n      <td>camper tour|camper tour deutsch|camper tour de...</td>\n      <td>142296</td>\n      <td>9480</td>\n      <td>144</td>\n      <td>364</td>\n      <td>https://i.ytimg.com/vi/2bbn9b79LRc/default.jpg</td>\n      <td>False</td>\n      <td>False</td>\n      <td>Mehr von unserem Trip quer durch Deutschland, ...</td>\n    </tr>\n    <tr>\n      <th>3</th>\n      <td>Zv-3qNnAMaM</td>\n      <td>Ich TESTE SHEIN BIKINIS (try on haul) - UNMÖGL...</td>\n      <td>2020-08-12T09:00:08Z</td>\n      <td>UCccDoH6QpRCjjcMgl5f88wA</td>\n      <td>Einfach Marci</td>\n      <td>24</td>\n      <td>2020-08-12T00:00:00Z</td>\n      <td>[None]</td>\n      <td>55640</td>\n      <td>3420</td>\n      <td>124</td>\n      <td>229</td>\n      <td>https://i.ytimg.com/vi/Zv-3qNnAMaM/default.jpg</td>\n      <td>False</td>\n      <td>False</td>\n      <td>Heii Cuties,Was soll ich in kommender Zeit noc...</td>\n    </tr>\n    <tr>\n      <th>4</th>\n      <td>7clgQLneouU</td>\n      <td>STATEMENT zu meinem BAN! 😒 | Bald vielleicht P...</td>\n      <td>2020-08-11T12:00:02Z</td>\n      <td>UC8E8eD7mOcnMazJT4laKbFQ</td>\n      <td>Domo</td>\n      <td>24</td>\n      <td>2020-08-12T00:00:00Z</td>\n      <td>Papaplatte|papaplatte twitch best of|papaplatt...</td>\n      <td>233899</td>\n      <td>25251</td>\n      <td>375</td>\n      <td>1051</td>\n      <td>https://i.ytimg.com/vi/7clgQLneouU/default.jpg</td>\n      <td>False</td>\n      <td>False</td>\n      <td>Domo hier! Abonnieren! Liken! Genießen!\\r\\rWen...</td>\n    </tr>\n  </tbody>\n</table>\n</div>"
     },
     "execution_count": 16,
     "metadata": {},
     "output_type": "execute_result"
    }
   ],
   "source": [
    "region = json_path.split('/')[1][:2]\n",
    "df = pd.read_csv(csv_path)\n",
    "df.head()"
   ],
   "metadata": {
    "collapsed": false,
    "pycharm": {
     "name": "#%%\n"
    }
   }
  },
  {
   "cell_type": "code",
   "execution_count": 17,
   "outputs": [
    {
     "data": {
      "text/plain": "      video_id                                              title  \\\n0  KJi2qg5F-9E                     Bonez MC - HOLLYWOOD (Snippet)   \n1  K0vYnOn7wZI  Nik hat heftige Probleme in Köln! 😱😫 #1925 | K...   \n2  2bbn9b79LRc  Camper Tour 2020 - ROADTRIP durch Österreich |...   \n3  Zv-3qNnAMaM  Ich TESTE SHEIN BIKINIS (try on haul) - UNMÖGL...   \n4  7clgQLneouU  STATEMENT zu meinem BAN! 😒 | Bald vielleicht P...   \n\n            publishedAt                 channelId   channelTitle  categoryId  \\\n0  2020-08-11T18:00:03Z  UCGh8tmH9x9njaI2mXfh2fyg       CrhymeTV          10   \n1  2020-08-11T17:00:09Z  UCnrvUg5MJWPDSrv_voT7AqA     Köln 50667          24   \n2  2020-08-11T18:00:00Z  UCBt8RY61tvanrhkzeZdNICw     AnaJohnson          24   \n3  2020-08-12T09:00:08Z  UCccDoH6QpRCjjcMgl5f88wA  Einfach Marci          24   \n4  2020-08-11T12:00:02Z  UC8E8eD7mOcnMazJT4laKbFQ           Domo          24   \n\n          trending_date                                               tags  \\\n0  2020-08-12T00:00:00Z  187|187 Strassenbande|BONEZ MC|RAF Camora|MAXW...   \n1  2020-08-12T00:00:00Z  Köln|50667|RTL2|RTL|Serie|k50667|ganze folge|t...   \n2  2020-08-12T00:00:00Z  camper tour|camper tour deutsch|camper tour de...   \n3  2020-08-12T00:00:00Z                                             [None]   \n4  2020-08-12T00:00:00Z  Papaplatte|papaplatte twitch best of|papaplatt...   \n\n   view_count  likes  dislikes  comment_count  \\\n0      573902  69319       970           3311   \n1      381375  13637       435            866   \n2      142296   9480       144            364   \n3       55640   3420       124            229   \n4      233899  25251       375           1051   \n\n                                   thumbnail_link  comments_disabled  \\\n0  https://i.ytimg.com/vi/KJi2qg5F-9E/default.jpg              False   \n1  https://i.ytimg.com/vi/K0vYnOn7wZI/default.jpg              False   \n2  https://i.ytimg.com/vi/2bbn9b79LRc/default.jpg              False   \n3  https://i.ytimg.com/vi/Zv-3qNnAMaM/default.jpg              False   \n4  https://i.ytimg.com/vi/7clgQLneouU/default.jpg              False   \n\n   ratings_disabled                                        description  \n0             False  Hollywood Fanbox vorbestellen ► http://bonezmc...  \n1             False  Toni gerät in Panik, als plötzlich ein Unbekan...  \n2             False  Mehr von unserem Trip quer durch Deutschland, ...  \n3             False  Heii Cuties,Was soll ich in kommender Zeit noc...  \n4             False  Domo hier! Abonnieren! Liken! Genießen!\\r\\rWen...  ",
      "text/html": "<div>\n<style scoped>\n    .dataframe tbody tr th:only-of-type {\n        vertical-align: middle;\n    }\n\n    .dataframe tbody tr th {\n        vertical-align: top;\n    }\n\n    .dataframe thead th {\n        text-align: right;\n    }\n</style>\n<table border=\"1\" class=\"dataframe\">\n  <thead>\n    <tr style=\"text-align: right;\">\n      <th></th>\n      <th>video_id</th>\n      <th>title</th>\n      <th>publishedAt</th>\n      <th>channelId</th>\n      <th>channelTitle</th>\n      <th>categoryId</th>\n      <th>trending_date</th>\n      <th>tags</th>\n      <th>view_count</th>\n      <th>likes</th>\n      <th>dislikes</th>\n      <th>comment_count</th>\n      <th>thumbnail_link</th>\n      <th>comments_disabled</th>\n      <th>ratings_disabled</th>\n      <th>description</th>\n    </tr>\n  </thead>\n  <tbody>\n    <tr>\n      <th>0</th>\n      <td>KJi2qg5F-9E</td>\n      <td>Bonez MC - HOLLYWOOD (Snippet)</td>\n      <td>2020-08-11T18:00:03Z</td>\n      <td>UCGh8tmH9x9njaI2mXfh2fyg</td>\n      <td>CrhymeTV</td>\n      <td>10</td>\n      <td>2020-08-12T00:00:00Z</td>\n      <td>187|187 Strassenbande|BONEZ MC|RAF Camora|MAXW...</td>\n      <td>573902</td>\n      <td>69319</td>\n      <td>970</td>\n      <td>3311</td>\n      <td>https://i.ytimg.com/vi/KJi2qg5F-9E/default.jpg</td>\n      <td>False</td>\n      <td>False</td>\n      <td>Hollywood Fanbox vorbestellen ► http://bonezmc...</td>\n    </tr>\n    <tr>\n      <th>1</th>\n      <td>K0vYnOn7wZI</td>\n      <td>Nik hat heftige Probleme in Köln! 😱😫 #1925 | K...</td>\n      <td>2020-08-11T17:00:09Z</td>\n      <td>UCnrvUg5MJWPDSrv_voT7AqA</td>\n      <td>Köln 50667</td>\n      <td>24</td>\n      <td>2020-08-12T00:00:00Z</td>\n      <td>Köln|50667|RTL2|RTL|Serie|k50667|ganze folge|t...</td>\n      <td>381375</td>\n      <td>13637</td>\n      <td>435</td>\n      <td>866</td>\n      <td>https://i.ytimg.com/vi/K0vYnOn7wZI/default.jpg</td>\n      <td>False</td>\n      <td>False</td>\n      <td>Toni gerät in Panik, als plötzlich ein Unbekan...</td>\n    </tr>\n    <tr>\n      <th>2</th>\n      <td>2bbn9b79LRc</td>\n      <td>Camper Tour 2020 - ROADTRIP durch Österreich |...</td>\n      <td>2020-08-11T18:00:00Z</td>\n      <td>UCBt8RY61tvanrhkzeZdNICw</td>\n      <td>AnaJohnson</td>\n      <td>24</td>\n      <td>2020-08-12T00:00:00Z</td>\n      <td>camper tour|camper tour deutsch|camper tour de...</td>\n      <td>142296</td>\n      <td>9480</td>\n      <td>144</td>\n      <td>364</td>\n      <td>https://i.ytimg.com/vi/2bbn9b79LRc/default.jpg</td>\n      <td>False</td>\n      <td>False</td>\n      <td>Mehr von unserem Trip quer durch Deutschland, ...</td>\n    </tr>\n    <tr>\n      <th>3</th>\n      <td>Zv-3qNnAMaM</td>\n      <td>Ich TESTE SHEIN BIKINIS (try on haul) - UNMÖGL...</td>\n      <td>2020-08-12T09:00:08Z</td>\n      <td>UCccDoH6QpRCjjcMgl5f88wA</td>\n      <td>Einfach Marci</td>\n      <td>24</td>\n      <td>2020-08-12T00:00:00Z</td>\n      <td>[None]</td>\n      <td>55640</td>\n      <td>3420</td>\n      <td>124</td>\n      <td>229</td>\n      <td>https://i.ytimg.com/vi/Zv-3qNnAMaM/default.jpg</td>\n      <td>False</td>\n      <td>False</td>\n      <td>Heii Cuties,Was soll ich in kommender Zeit noc...</td>\n    </tr>\n    <tr>\n      <th>4</th>\n      <td>7clgQLneouU</td>\n      <td>STATEMENT zu meinem BAN! 😒 | Bald vielleicht P...</td>\n      <td>2020-08-11T12:00:02Z</td>\n      <td>UC8E8eD7mOcnMazJT4laKbFQ</td>\n      <td>Domo</td>\n      <td>24</td>\n      <td>2020-08-12T00:00:00Z</td>\n      <td>Papaplatte|papaplatte twitch best of|papaplatt...</td>\n      <td>233899</td>\n      <td>25251</td>\n      <td>375</td>\n      <td>1051</td>\n      <td>https://i.ytimg.com/vi/7clgQLneouU/default.jpg</td>\n      <td>False</td>\n      <td>False</td>\n      <td>Domo hier! Abonnieren! Liken! Genießen!\\r\\rWen...</td>\n    </tr>\n  </tbody>\n</table>\n</div>"
     },
     "execution_count": 17,
     "metadata": {},
     "output_type": "execute_result"
    }
   ],
   "source": [
    "#df.replace(\"[None]\",np.nan,inplace=True)\n",
    "#NaN = tags missing, None = no tags chosen\n",
    "df.head()"
   ],
   "metadata": {
    "collapsed": false,
    "pycharm": {
     "name": "#%%\n"
    }
   }
  },
  {
   "cell_type": "code",
   "execution_count": 18,
   "outputs": [
    {
     "name": "stdout",
     "output_type": "stream",
     "text": [
      "video_id\n",
      "False    84144\n",
      "Name: video_id, dtype: int64\n",
      "title\n",
      "False    84144\n",
      "Name: title, dtype: int64\n",
      "publishedAt\n",
      "False    84144\n",
      "Name: publishedAt, dtype: int64\n",
      "channelId\n",
      "False    84144\n",
      "Name: channelId, dtype: int64\n",
      "channelTitle\n",
      "False    84144\n",
      "Name: channelTitle, dtype: int64\n",
      "categoryId\n",
      "False    84144\n",
      "Name: categoryId, dtype: int64\n",
      "trending_date\n",
      "False    84144\n",
      "Name: trending_date, dtype: int64\n",
      "tags\n",
      "False    84144\n",
      "Name: tags, dtype: int64\n",
      "view_count\n",
      "False    84144\n",
      "Name: view_count, dtype: int64\n",
      "likes\n",
      "False    84144\n",
      "Name: likes, dtype: int64\n",
      "dislikes\n",
      "False    84144\n",
      "Name: dislikes, dtype: int64\n",
      "comment_count\n",
      "False    84144\n",
      "Name: comment_count, dtype: int64\n",
      "thumbnail_link\n",
      "False    84144\n",
      "Name: thumbnail_link, dtype: int64\n",
      "comments_disabled\n",
      "False    84144\n",
      "Name: comments_disabled, dtype: int64\n",
      "ratings_disabled\n",
      "False    84144\n",
      "Name: ratings_disabled, dtype: int64\n",
      "description\n",
      "False    83141\n",
      "True      1003\n",
      "Name: description, dtype: int64\n"
     ]
    }
   ],
   "source": [
    "missing_data = df.isnull()\n",
    "#missing_data.head(100)\n",
    "\n",
    "for column in missing_data.columns.values.tolist():\n",
    "    print(column)\n",
    "    print(missing_data[column].value_counts())"
   ],
   "metadata": {
    "collapsed": false,
    "pycharm": {
     "name": "#%% missing values\n"
    }
   }
  },
  {
   "cell_type": "code",
   "execution_count": 19,
   "outputs": [
    {
     "data": {
      "text/plain": "         categoryId    view_count         likes       dislikes  comment_count\ncount  84144.000000  8.414400e+04  8.414400e+04   84144.000000   8.414400e+04\nmean      18.924415  1.677185e+06  9.632823e+04    2393.101825   9.183025e+03\nstd        6.978109  5.906550e+06  3.728302e+05   11814.676668   9.029793e+04\nmin        1.000000  0.000000e+00  0.000000e+00       0.000000   0.000000e+00\n25%       17.000000  1.159462e+05  5.537000e+03     112.000000   3.620000e+02\n50%       22.000000  3.005410e+05  1.511000e+04     314.000000   9.690000e+02\n75%       24.000000  1.007068e+06  5.168500e+04    1127.000000   3.321000e+03\nmax       29.000000  2.191105e+08  1.546084e+07  848975.000000   5.987755e+06",
      "text/html": "<div>\n<style scoped>\n    .dataframe tbody tr th:only-of-type {\n        vertical-align: middle;\n    }\n\n    .dataframe tbody tr th {\n        vertical-align: top;\n    }\n\n    .dataframe thead th {\n        text-align: right;\n    }\n</style>\n<table border=\"1\" class=\"dataframe\">\n  <thead>\n    <tr style=\"text-align: right;\">\n      <th></th>\n      <th>categoryId</th>\n      <th>view_count</th>\n      <th>likes</th>\n      <th>dislikes</th>\n      <th>comment_count</th>\n    </tr>\n  </thead>\n  <tbody>\n    <tr>\n      <th>count</th>\n      <td>84144.000000</td>\n      <td>8.414400e+04</td>\n      <td>8.414400e+04</td>\n      <td>84144.000000</td>\n      <td>8.414400e+04</td>\n    </tr>\n    <tr>\n      <th>mean</th>\n      <td>18.924415</td>\n      <td>1.677185e+06</td>\n      <td>9.632823e+04</td>\n      <td>2393.101825</td>\n      <td>9.183025e+03</td>\n    </tr>\n    <tr>\n      <th>std</th>\n      <td>6.978109</td>\n      <td>5.906550e+06</td>\n      <td>3.728302e+05</td>\n      <td>11814.676668</td>\n      <td>9.029793e+04</td>\n    </tr>\n    <tr>\n      <th>min</th>\n      <td>1.000000</td>\n      <td>0.000000e+00</td>\n      <td>0.000000e+00</td>\n      <td>0.000000</td>\n      <td>0.000000e+00</td>\n    </tr>\n    <tr>\n      <th>25%</th>\n      <td>17.000000</td>\n      <td>1.159462e+05</td>\n      <td>5.537000e+03</td>\n      <td>112.000000</td>\n      <td>3.620000e+02</td>\n    </tr>\n    <tr>\n      <th>50%</th>\n      <td>22.000000</td>\n      <td>3.005410e+05</td>\n      <td>1.511000e+04</td>\n      <td>314.000000</td>\n      <td>9.690000e+02</td>\n    </tr>\n    <tr>\n      <th>75%</th>\n      <td>24.000000</td>\n      <td>1.007068e+06</td>\n      <td>5.168500e+04</td>\n      <td>1127.000000</td>\n      <td>3.321000e+03</td>\n    </tr>\n    <tr>\n      <th>max</th>\n      <td>29.000000</td>\n      <td>2.191105e+08</td>\n      <td>1.546084e+07</td>\n      <td>848975.000000</td>\n      <td>5.987755e+06</td>\n    </tr>\n  </tbody>\n</table>\n</div>"
     },
     "execution_count": 19,
     "metadata": {},
     "output_type": "execute_result"
    }
   ],
   "source": [
    "#filter\n",
    "df.loc[:].describe()"
   ],
   "metadata": {
    "collapsed": false,
    "pycharm": {
     "name": "#%%\n"
    }
   }
  },
  {
   "cell_type": "code",
   "execution_count": 20,
   "outputs": [],
   "source": [
    "# add column with string meaning\n",
    "category_file = open(json_path)\n",
    "category_file = json.load(category_file)"
   ],
   "metadata": {
    "collapsed": false,
    "pycharm": {
     "name": "#%%\n"
    }
   }
  },
  {
   "cell_type": "code",
   "execution_count": 21,
   "outputs": [
    {
     "data": {
      "text/plain": "['Film & Animation',\n 'Autos & Vehicles',\n 'Music',\n 'Pets & Animals',\n 'Sports',\n 'Short Movies',\n 'Travel & Events',\n 'Gaming',\n 'Videoblogging',\n 'People & Blogs',\n 'Comedy',\n 'Entertainment',\n 'News & Politics',\n 'Howto & Style',\n 'Education',\n 'Science & Technology',\n 'Movies',\n 'Anime/Animation',\n 'Action/Adventure',\n 'Classics',\n 'Comedy',\n 'Documentary',\n 'Drama',\n 'Family',\n 'Foreign',\n 'Horror',\n 'Sci-Fi/Fantasy',\n 'Thriller',\n 'Shorts',\n 'Shows',\n 'Trailers']"
     },
     "execution_count": 21,
     "metadata": {},
     "output_type": "execute_result"
    }
   ],
   "source": [
    "# create readable category\n",
    "category_list = [0 for i in range(0,44 +1)]\n",
    "for elem in category_file['items']:\n",
    "    category_list[int(elem['id'])] = elem['snippet']['title']\n",
    "[category for category in category_list if category != 0]"
   ],
   "metadata": {
    "collapsed": false,
    "pycharm": {
     "name": "#%%\n"
    }
   }
  },
  {
   "cell_type": "code",
   "execution_count": 22,
   "outputs": [
    {
     "data": {
      "text/plain": "['Music',\n 'Entertainment',\n 'Entertainment',\n 'Entertainment',\n 'Entertainment',\n 'Sports',\n 'Entertainment',\n 'Entertainment',\n 'Sports',\n 'Howto & Style']"
     },
     "execution_count": 22,
     "metadata": {},
     "output_type": "execute_result"
    }
   ],
   "source": [
    "#generate column that fits category from dataframe\n",
    "category_text_column = []\n",
    "for item  in df['categoryId']:\n",
    "    category_text_column.append(category_list[item])\n",
    "category_text_column[:10]"
   ],
   "metadata": {
    "collapsed": false,
    "pycharm": {
     "name": "#%%\n"
    }
   }
  },
  {
   "cell_type": "code",
   "execution_count": 23,
   "outputs": [
    {
     "data": {
      "text/plain": "          video_id                                              title  \\\n0      KJi2qg5F-9E                     Bonez MC - HOLLYWOOD (Snippet)   \n1      K0vYnOn7wZI  Nik hat heftige Probleme in Köln! 😱😫 #1925 | K...   \n2      2bbn9b79LRc  Camper Tour 2020 - ROADTRIP durch Österreich |...   \n3      Zv-3qNnAMaM  Ich TESTE SHEIN BIKINIS (try on haul) - UNMÖGL...   \n4      7clgQLneouU  STATEMENT zu meinem BAN! 😒 | Bald vielleicht P...   \n...            ...                                                ...   \n84139  3_m86aQVeSI  Mein neues Auto ist da! | BMW M4 Competition x...   \n84140  mi-6cj3soTg  Mozzik x Loredana – Immer wenn es regnet (prod...   \n84141  m-z6ykQejT8      RIESEN AIRTRACK vs OZEAN! (XXL Luftmatratze!)   \n84142  bOMkHPrFOy0  Ein ehrliches Body Update. – Lipödem & Ernähru...   \n84143  THpDRLWaL-I  Coldplay X BTS - My Universe (Official Acousti...   \n\n                publishedAt                 channelId   channelTitle  \\\n0      2020-08-11T18:00:03Z  UCGh8tmH9x9njaI2mXfh2fyg       CrhymeTV   \n1      2020-08-11T17:00:09Z  UCnrvUg5MJWPDSrv_voT7AqA     Köln 50667   \n2      2020-08-11T18:00:00Z  UCBt8RY61tvanrhkzeZdNICw     AnaJohnson   \n3      2020-08-12T09:00:08Z  UCccDoH6QpRCjjcMgl5f88wA  Einfach Marci   \n4      2020-08-11T12:00:02Z  UC8E8eD7mOcnMazJT4laKbFQ           Domo   \n...                     ...                       ...            ...   \n84139  2021-09-25T16:30:00Z  UCsj96MCtBs8u4vB6l0gVgTg   Gercollector   \n84140  2021-09-23T21:59:15Z  UC5i2bJMC3kyDn1v99vq8sDQ       LOREDANA   \n84141  2021-09-24T16:02:48Z  UCGCYzFQ-rQ5eXjeTQJ_W-VA    Vinny Piano   \n84142  2021-09-25T09:00:30Z  UCkhcCPued3JClKU_HPEvApA     DominoKati   \n84143  2021-09-26T23:00:10Z  UCDPM_n1atn2ijUwHd0NNRQw       Coldplay   \n\n       categoryId         trending_date  \\\n0              10  2020-08-12T00:00:00Z   \n1              24  2020-08-12T00:00:00Z   \n2              24  2020-08-12T00:00:00Z   \n3              24  2020-08-12T00:00:00Z   \n4              24  2020-08-12T00:00:00Z   \n...           ...                   ...   \n84139           2  2021-09-30T00:00:00Z   \n84140          10  2021-09-30T00:00:00Z   \n84141          24  2021-09-30T00:00:00Z   \n84142          26  2021-09-30T00:00:00Z   \n84143          10  2021-09-30T00:00:00Z   \n\n                                                    tags  view_count   likes  \\\n0      187|187 Strassenbande|BONEZ MC|RAF Camora|MAXW...      573902   69319   \n1      Köln|50667|RTL2|RTL|Serie|k50667|ganze folge|t...      381375   13637   \n2      camper tour|camper tour deutsch|camper tour de...      142296    9480   \n3                                                 [None]       55640    3420   \n4      Papaplatte|papaplatte twitch best of|papaplatt...      233899   25251   \n...                                                  ...         ...     ...   \n84139  gercollector|bmw m4|bmw|bmw m4 competition|bmw...      103583    4936   \n84140                                             [None]     1781823   52816   \n84141  airtrack|airtrack auf wasser|airtrack im meer|...      355113   15687   \n84142  domino kati|dominokati|domino|kati|haare|tutor...      114369    6195   \n84143  Coldplay|BTS|My Universe|Official video|Offici...     4082320  853332   \n\n       dislikes  comment_count  \\\n0           970           3311   \n1           435            866   \n2           144            364   \n3           124            229   \n4           375           1051   \n...         ...            ...   \n84139       145            446   \n84140      2595           1411   \n84141       476            477   \n84142       168            624   \n84143      2288          25247   \n\n                                       thumbnail_link  comments_disabled  \\\n0      https://i.ytimg.com/vi/KJi2qg5F-9E/default.jpg              False   \n1      https://i.ytimg.com/vi/K0vYnOn7wZI/default.jpg              False   \n2      https://i.ytimg.com/vi/2bbn9b79LRc/default.jpg              False   \n3      https://i.ytimg.com/vi/Zv-3qNnAMaM/default.jpg              False   \n4      https://i.ytimg.com/vi/7clgQLneouU/default.jpg              False   \n...                                               ...                ...   \n84139  https://i.ytimg.com/vi/3_m86aQVeSI/default.jpg              False   \n84140  https://i.ytimg.com/vi/mi-6cj3soTg/default.jpg              False   \n84141  https://i.ytimg.com/vi/m-z6ykQejT8/default.jpg              False   \n84142  https://i.ytimg.com/vi/bOMkHPrFOy0/default.jpg              False   \n84143  https://i.ytimg.com/vi/THpDRLWaL-I/default.jpg              False   \n\n       ratings_disabled                                        description  \\\n0                 False  Hollywood Fanbox vorbestellen ► http://bonezmc...   \n1                 False  Toni gerät in Panik, als plötzlich ein Unbekan...   \n2                 False  Mehr von unserem Trip quer durch Deutschland, ...   \n3                 False  Heii Cuties,Was soll ich in kommender Zeit noc...   \n4                 False  Domo hier! Abonnieren! Liken! Genießen!\\r\\rWen...   \n...                 ...                                                ...   \n84139             False  #BMW#M4Competition#GERCollectorHeute befinden ...   \n84140             False  NO RICH PARENTS !!!!!!!! Das Kollabo-Album von...   \n84141             False  Wir sind mit unserem RIESEN AIRTRACK an den St...   \n84142             False  In der neuen #KaTeaTime beantworte ich eure br...   \n84143             False  Acoustic version of the new single, taken from...   \n\n          category_text  \n0                 Music  \n1         Entertainment  \n2         Entertainment  \n3         Entertainment  \n4         Entertainment  \n...                 ...  \n84139  Autos & Vehicles  \n84140             Music  \n84141     Entertainment  \n84142     Howto & Style  \n84143             Music  \n\n[84144 rows x 17 columns]",
      "text/html": "<div>\n<style scoped>\n    .dataframe tbody tr th:only-of-type {\n        vertical-align: middle;\n    }\n\n    .dataframe tbody tr th {\n        vertical-align: top;\n    }\n\n    .dataframe thead th {\n        text-align: right;\n    }\n</style>\n<table border=\"1\" class=\"dataframe\">\n  <thead>\n    <tr style=\"text-align: right;\">\n      <th></th>\n      <th>video_id</th>\n      <th>title</th>\n      <th>publishedAt</th>\n      <th>channelId</th>\n      <th>channelTitle</th>\n      <th>categoryId</th>\n      <th>trending_date</th>\n      <th>tags</th>\n      <th>view_count</th>\n      <th>likes</th>\n      <th>dislikes</th>\n      <th>comment_count</th>\n      <th>thumbnail_link</th>\n      <th>comments_disabled</th>\n      <th>ratings_disabled</th>\n      <th>description</th>\n      <th>category_text</th>\n    </tr>\n  </thead>\n  <tbody>\n    <tr>\n      <th>0</th>\n      <td>KJi2qg5F-9E</td>\n      <td>Bonez MC - HOLLYWOOD (Snippet)</td>\n      <td>2020-08-11T18:00:03Z</td>\n      <td>UCGh8tmH9x9njaI2mXfh2fyg</td>\n      <td>CrhymeTV</td>\n      <td>10</td>\n      <td>2020-08-12T00:00:00Z</td>\n      <td>187|187 Strassenbande|BONEZ MC|RAF Camora|MAXW...</td>\n      <td>573902</td>\n      <td>69319</td>\n      <td>970</td>\n      <td>3311</td>\n      <td>https://i.ytimg.com/vi/KJi2qg5F-9E/default.jpg</td>\n      <td>False</td>\n      <td>False</td>\n      <td>Hollywood Fanbox vorbestellen ► http://bonezmc...</td>\n      <td>Music</td>\n    </tr>\n    <tr>\n      <th>1</th>\n      <td>K0vYnOn7wZI</td>\n      <td>Nik hat heftige Probleme in Köln! 😱😫 #1925 | K...</td>\n      <td>2020-08-11T17:00:09Z</td>\n      <td>UCnrvUg5MJWPDSrv_voT7AqA</td>\n      <td>Köln 50667</td>\n      <td>24</td>\n      <td>2020-08-12T00:00:00Z</td>\n      <td>Köln|50667|RTL2|RTL|Serie|k50667|ganze folge|t...</td>\n      <td>381375</td>\n      <td>13637</td>\n      <td>435</td>\n      <td>866</td>\n      <td>https://i.ytimg.com/vi/K0vYnOn7wZI/default.jpg</td>\n      <td>False</td>\n      <td>False</td>\n      <td>Toni gerät in Panik, als plötzlich ein Unbekan...</td>\n      <td>Entertainment</td>\n    </tr>\n    <tr>\n      <th>2</th>\n      <td>2bbn9b79LRc</td>\n      <td>Camper Tour 2020 - ROADTRIP durch Österreich |...</td>\n      <td>2020-08-11T18:00:00Z</td>\n      <td>UCBt8RY61tvanrhkzeZdNICw</td>\n      <td>AnaJohnson</td>\n      <td>24</td>\n      <td>2020-08-12T00:00:00Z</td>\n      <td>camper tour|camper tour deutsch|camper tour de...</td>\n      <td>142296</td>\n      <td>9480</td>\n      <td>144</td>\n      <td>364</td>\n      <td>https://i.ytimg.com/vi/2bbn9b79LRc/default.jpg</td>\n      <td>False</td>\n      <td>False</td>\n      <td>Mehr von unserem Trip quer durch Deutschland, ...</td>\n      <td>Entertainment</td>\n    </tr>\n    <tr>\n      <th>3</th>\n      <td>Zv-3qNnAMaM</td>\n      <td>Ich TESTE SHEIN BIKINIS (try on haul) - UNMÖGL...</td>\n      <td>2020-08-12T09:00:08Z</td>\n      <td>UCccDoH6QpRCjjcMgl5f88wA</td>\n      <td>Einfach Marci</td>\n      <td>24</td>\n      <td>2020-08-12T00:00:00Z</td>\n      <td>[None]</td>\n      <td>55640</td>\n      <td>3420</td>\n      <td>124</td>\n      <td>229</td>\n      <td>https://i.ytimg.com/vi/Zv-3qNnAMaM/default.jpg</td>\n      <td>False</td>\n      <td>False</td>\n      <td>Heii Cuties,Was soll ich in kommender Zeit noc...</td>\n      <td>Entertainment</td>\n    </tr>\n    <tr>\n      <th>4</th>\n      <td>7clgQLneouU</td>\n      <td>STATEMENT zu meinem BAN! 😒 | Bald vielleicht P...</td>\n      <td>2020-08-11T12:00:02Z</td>\n      <td>UC8E8eD7mOcnMazJT4laKbFQ</td>\n      <td>Domo</td>\n      <td>24</td>\n      <td>2020-08-12T00:00:00Z</td>\n      <td>Papaplatte|papaplatte twitch best of|papaplatt...</td>\n      <td>233899</td>\n      <td>25251</td>\n      <td>375</td>\n      <td>1051</td>\n      <td>https://i.ytimg.com/vi/7clgQLneouU/default.jpg</td>\n      <td>False</td>\n      <td>False</td>\n      <td>Domo hier! Abonnieren! Liken! Genießen!\\r\\rWen...</td>\n      <td>Entertainment</td>\n    </tr>\n    <tr>\n      <th>...</th>\n      <td>...</td>\n      <td>...</td>\n      <td>...</td>\n      <td>...</td>\n      <td>...</td>\n      <td>...</td>\n      <td>...</td>\n      <td>...</td>\n      <td>...</td>\n      <td>...</td>\n      <td>...</td>\n      <td>...</td>\n      <td>...</td>\n      <td>...</td>\n      <td>...</td>\n      <td>...</td>\n      <td>...</td>\n    </tr>\n    <tr>\n      <th>84139</th>\n      <td>3_m86aQVeSI</td>\n      <td>Mein neues Auto ist da! | BMW M4 Competition x...</td>\n      <td>2021-09-25T16:30:00Z</td>\n      <td>UCsj96MCtBs8u4vB6l0gVgTg</td>\n      <td>Gercollector</td>\n      <td>2</td>\n      <td>2021-09-30T00:00:00Z</td>\n      <td>gercollector|bmw m4|bmw|bmw m4 competition|bmw...</td>\n      <td>103583</td>\n      <td>4936</td>\n      <td>145</td>\n      <td>446</td>\n      <td>https://i.ytimg.com/vi/3_m86aQVeSI/default.jpg</td>\n      <td>False</td>\n      <td>False</td>\n      <td>#BMW#M4Competition#GERCollectorHeute befinden ...</td>\n      <td>Autos &amp; Vehicles</td>\n    </tr>\n    <tr>\n      <th>84140</th>\n      <td>mi-6cj3soTg</td>\n      <td>Mozzik x Loredana – Immer wenn es regnet (prod...</td>\n      <td>2021-09-23T21:59:15Z</td>\n      <td>UC5i2bJMC3kyDn1v99vq8sDQ</td>\n      <td>LOREDANA</td>\n      <td>10</td>\n      <td>2021-09-30T00:00:00Z</td>\n      <td>[None]</td>\n      <td>1781823</td>\n      <td>52816</td>\n      <td>2595</td>\n      <td>1411</td>\n      <td>https://i.ytimg.com/vi/mi-6cj3soTg/default.jpg</td>\n      <td>False</td>\n      <td>False</td>\n      <td>NO RICH PARENTS !!!!!!!! Das Kollabo-Album von...</td>\n      <td>Music</td>\n    </tr>\n    <tr>\n      <th>84141</th>\n      <td>m-z6ykQejT8</td>\n      <td>RIESEN AIRTRACK vs OZEAN! (XXL Luftmatratze!)</td>\n      <td>2021-09-24T16:02:48Z</td>\n      <td>UCGCYzFQ-rQ5eXjeTQJ_W-VA</td>\n      <td>Vinny Piano</td>\n      <td>24</td>\n      <td>2021-09-30T00:00:00Z</td>\n      <td>airtrack|airtrack auf wasser|airtrack im meer|...</td>\n      <td>355113</td>\n      <td>15687</td>\n      <td>476</td>\n      <td>477</td>\n      <td>https://i.ytimg.com/vi/m-z6ykQejT8/default.jpg</td>\n      <td>False</td>\n      <td>False</td>\n      <td>Wir sind mit unserem RIESEN AIRTRACK an den St...</td>\n      <td>Entertainment</td>\n    </tr>\n    <tr>\n      <th>84142</th>\n      <td>bOMkHPrFOy0</td>\n      <td>Ein ehrliches Body Update. – Lipödem &amp; Ernähru...</td>\n      <td>2021-09-25T09:00:30Z</td>\n      <td>UCkhcCPued3JClKU_HPEvApA</td>\n      <td>DominoKati</td>\n      <td>26</td>\n      <td>2021-09-30T00:00:00Z</td>\n      <td>domino kati|dominokati|domino|kati|haare|tutor...</td>\n      <td>114369</td>\n      <td>6195</td>\n      <td>168</td>\n      <td>624</td>\n      <td>https://i.ytimg.com/vi/bOMkHPrFOy0/default.jpg</td>\n      <td>False</td>\n      <td>False</td>\n      <td>In der neuen #KaTeaTime beantworte ich eure br...</td>\n      <td>Howto &amp; Style</td>\n    </tr>\n    <tr>\n      <th>84143</th>\n      <td>THpDRLWaL-I</td>\n      <td>Coldplay X BTS - My Universe (Official Acousti...</td>\n      <td>2021-09-26T23:00:10Z</td>\n      <td>UCDPM_n1atn2ijUwHd0NNRQw</td>\n      <td>Coldplay</td>\n      <td>10</td>\n      <td>2021-09-30T00:00:00Z</td>\n      <td>Coldplay|BTS|My Universe|Official video|Offici...</td>\n      <td>4082320</td>\n      <td>853332</td>\n      <td>2288</td>\n      <td>25247</td>\n      <td>https://i.ytimg.com/vi/THpDRLWaL-I/default.jpg</td>\n      <td>False</td>\n      <td>False</td>\n      <td>Acoustic version of the new single, taken from...</td>\n      <td>Music</td>\n    </tr>\n  </tbody>\n</table>\n<p>84144 rows × 17 columns</p>\n</div>"
     },
     "execution_count": 23,
     "metadata": {},
     "output_type": "execute_result"
    }
   ],
   "source": [
    "# add categories to dataframe\n",
    "df['category_text'] = category_text_column\n",
    "df"
   ],
   "metadata": {
    "collapsed": false,
    "pycharm": {
     "name": "#%%\n"
    }
   }
  },
  {
   "cell_type": "markdown",
   "source": [
    "### add tagged column"
   ],
   "metadata": {
    "collapsed": false
   }
  },
  {
   "cell_type": "code",
   "execution_count": 24,
   "outputs": [
    {
     "data": {
      "text/plain": "                                                tags  tagged\n0  187|187 Strassenbande|BONEZ MC|RAF Camora|MAXW...    True\n1  Köln|50667|RTL2|RTL|Serie|k50667|ganze folge|t...    True\n2  camper tour|camper tour deutsch|camper tour de...    True\n3                                             [None]   False\n4  Papaplatte|papaplatte twitch best of|papaplatt...    True\n5  Inter|Inter Mailand|Leverkusen|Bayer Leverkuse...    True\n6                                             [None]   False\n7  world wide wohnzimmer|worldwidewohnzimmer|twin...    True\n8  bleacher report|br|nba|giannis|giannis antetok...    True\n9  bikini try on|bikini try on haul|günstige|biki...    True",
      "text/html": "<div>\n<style scoped>\n    .dataframe tbody tr th:only-of-type {\n        vertical-align: middle;\n    }\n\n    .dataframe tbody tr th {\n        vertical-align: top;\n    }\n\n    .dataframe thead th {\n        text-align: right;\n    }\n</style>\n<table border=\"1\" class=\"dataframe\">\n  <thead>\n    <tr style=\"text-align: right;\">\n      <th></th>\n      <th>tags</th>\n      <th>tagged</th>\n    </tr>\n  </thead>\n  <tbody>\n    <tr>\n      <th>0</th>\n      <td>187|187 Strassenbande|BONEZ MC|RAF Camora|MAXW...</td>\n      <td>True</td>\n    </tr>\n    <tr>\n      <th>1</th>\n      <td>Köln|50667|RTL2|RTL|Serie|k50667|ganze folge|t...</td>\n      <td>True</td>\n    </tr>\n    <tr>\n      <th>2</th>\n      <td>camper tour|camper tour deutsch|camper tour de...</td>\n      <td>True</td>\n    </tr>\n    <tr>\n      <th>3</th>\n      <td>[None]</td>\n      <td>False</td>\n    </tr>\n    <tr>\n      <th>4</th>\n      <td>Papaplatte|papaplatte twitch best of|papaplatt...</td>\n      <td>True</td>\n    </tr>\n    <tr>\n      <th>5</th>\n      <td>Inter|Inter Mailand|Leverkusen|Bayer Leverkuse...</td>\n      <td>True</td>\n    </tr>\n    <tr>\n      <th>6</th>\n      <td>[None]</td>\n      <td>False</td>\n    </tr>\n    <tr>\n      <th>7</th>\n      <td>world wide wohnzimmer|worldwidewohnzimmer|twin...</td>\n      <td>True</td>\n    </tr>\n    <tr>\n      <th>8</th>\n      <td>bleacher report|br|nba|giannis|giannis antetok...</td>\n      <td>True</td>\n    </tr>\n    <tr>\n      <th>9</th>\n      <td>bikini try on|bikini try on haul|günstige|biki...</td>\n      <td>True</td>\n    </tr>\n  </tbody>\n</table>\n</div>"
     },
     "execution_count": 24,
     "metadata": {},
     "output_type": "execute_result"
    }
   ],
   "source": [
    "tagged = []\n",
    "for tag in df['tags']:\n",
    "    if tag == \"[None]\":\n",
    "        tagged.append(False)\n",
    "    else:\n",
    "        tagged.append(True)\n",
    "df['tagged'] = tagged\n",
    "df_print = pd.DataFrame(df,columns=['tags','tagged'])\n",
    "df_print.iloc[:10]"
   ],
   "metadata": {
    "collapsed": false,
    "pycharm": {
     "name": "#%%\n"
    }
   }
  },
  {
   "cell_type": "markdown",
   "source": [
    "add region column"
   ],
   "metadata": {
    "collapsed": false,
    "pycharm": {
     "name": "#%% md\n"
    }
   }
  },
  {
   "cell_type": "code",
   "execution_count": 25,
   "outputs": [
    {
     "data": {
      "text/plain": "      video_id                                              title  \\\n0  KJi2qg5F-9E                     Bonez MC - HOLLYWOOD (Snippet)   \n1  K0vYnOn7wZI  Nik hat heftige Probleme in Köln! 😱😫 #1925 | K...   \n2  2bbn9b79LRc  Camper Tour 2020 - ROADTRIP durch Österreich |...   \n3  Zv-3qNnAMaM  Ich TESTE SHEIN BIKINIS (try on haul) - UNMÖGL...   \n\n            publishedAt                 channelId   channelTitle  categoryId  \\\n0  2020-08-11T18:00:03Z  UCGh8tmH9x9njaI2mXfh2fyg       CrhymeTV          10   \n1  2020-08-11T17:00:09Z  UCnrvUg5MJWPDSrv_voT7AqA     Köln 50667          24   \n2  2020-08-11T18:00:00Z  UCBt8RY61tvanrhkzeZdNICw     AnaJohnson          24   \n3  2020-08-12T09:00:08Z  UCccDoH6QpRCjjcMgl5f88wA  Einfach Marci          24   \n\n          trending_date                                               tags  \\\n0  2020-08-12T00:00:00Z  187|187 Strassenbande|BONEZ MC|RAF Camora|MAXW...   \n1  2020-08-12T00:00:00Z  Köln|50667|RTL2|RTL|Serie|k50667|ganze folge|t...   \n2  2020-08-12T00:00:00Z  camper tour|camper tour deutsch|camper tour de...   \n3  2020-08-12T00:00:00Z                                             [None]   \n\n   view_count  likes  dislikes  comment_count  \\\n0      573902  69319       970           3311   \n1      381375  13637       435            866   \n2      142296   9480       144            364   \n3       55640   3420       124            229   \n\n                                   thumbnail_link  comments_disabled  \\\n0  https://i.ytimg.com/vi/KJi2qg5F-9E/default.jpg              False   \n1  https://i.ytimg.com/vi/K0vYnOn7wZI/default.jpg              False   \n2  https://i.ytimg.com/vi/2bbn9b79LRc/default.jpg              False   \n3  https://i.ytimg.com/vi/Zv-3qNnAMaM/default.jpg              False   \n\n   ratings_disabled                                        description  \\\n0             False  Hollywood Fanbox vorbestellen ► http://bonezmc...   \n1             False  Toni gerät in Panik, als plötzlich ein Unbekan...   \n2             False  Mehr von unserem Trip quer durch Deutschland, ...   \n3             False  Heii Cuties,Was soll ich in kommender Zeit noc...   \n\n   category_text  tagged region  \n0          Music    True     DE  \n1  Entertainment    True     DE  \n2  Entertainment    True     DE  \n3  Entertainment   False     DE  ",
      "text/html": "<div>\n<style scoped>\n    .dataframe tbody tr th:only-of-type {\n        vertical-align: middle;\n    }\n\n    .dataframe tbody tr th {\n        vertical-align: top;\n    }\n\n    .dataframe thead th {\n        text-align: right;\n    }\n</style>\n<table border=\"1\" class=\"dataframe\">\n  <thead>\n    <tr style=\"text-align: right;\">\n      <th></th>\n      <th>video_id</th>\n      <th>title</th>\n      <th>publishedAt</th>\n      <th>channelId</th>\n      <th>channelTitle</th>\n      <th>categoryId</th>\n      <th>trending_date</th>\n      <th>tags</th>\n      <th>view_count</th>\n      <th>likes</th>\n      <th>dislikes</th>\n      <th>comment_count</th>\n      <th>thumbnail_link</th>\n      <th>comments_disabled</th>\n      <th>ratings_disabled</th>\n      <th>description</th>\n      <th>category_text</th>\n      <th>tagged</th>\n      <th>region</th>\n    </tr>\n  </thead>\n  <tbody>\n    <tr>\n      <th>0</th>\n      <td>KJi2qg5F-9E</td>\n      <td>Bonez MC - HOLLYWOOD (Snippet)</td>\n      <td>2020-08-11T18:00:03Z</td>\n      <td>UCGh8tmH9x9njaI2mXfh2fyg</td>\n      <td>CrhymeTV</td>\n      <td>10</td>\n      <td>2020-08-12T00:00:00Z</td>\n      <td>187|187 Strassenbande|BONEZ MC|RAF Camora|MAXW...</td>\n      <td>573902</td>\n      <td>69319</td>\n      <td>970</td>\n      <td>3311</td>\n      <td>https://i.ytimg.com/vi/KJi2qg5F-9E/default.jpg</td>\n      <td>False</td>\n      <td>False</td>\n      <td>Hollywood Fanbox vorbestellen ► http://bonezmc...</td>\n      <td>Music</td>\n      <td>True</td>\n      <td>DE</td>\n    </tr>\n    <tr>\n      <th>1</th>\n      <td>K0vYnOn7wZI</td>\n      <td>Nik hat heftige Probleme in Köln! 😱😫 #1925 | K...</td>\n      <td>2020-08-11T17:00:09Z</td>\n      <td>UCnrvUg5MJWPDSrv_voT7AqA</td>\n      <td>Köln 50667</td>\n      <td>24</td>\n      <td>2020-08-12T00:00:00Z</td>\n      <td>Köln|50667|RTL2|RTL|Serie|k50667|ganze folge|t...</td>\n      <td>381375</td>\n      <td>13637</td>\n      <td>435</td>\n      <td>866</td>\n      <td>https://i.ytimg.com/vi/K0vYnOn7wZI/default.jpg</td>\n      <td>False</td>\n      <td>False</td>\n      <td>Toni gerät in Panik, als plötzlich ein Unbekan...</td>\n      <td>Entertainment</td>\n      <td>True</td>\n      <td>DE</td>\n    </tr>\n    <tr>\n      <th>2</th>\n      <td>2bbn9b79LRc</td>\n      <td>Camper Tour 2020 - ROADTRIP durch Österreich |...</td>\n      <td>2020-08-11T18:00:00Z</td>\n      <td>UCBt8RY61tvanrhkzeZdNICw</td>\n      <td>AnaJohnson</td>\n      <td>24</td>\n      <td>2020-08-12T00:00:00Z</td>\n      <td>camper tour|camper tour deutsch|camper tour de...</td>\n      <td>142296</td>\n      <td>9480</td>\n      <td>144</td>\n      <td>364</td>\n      <td>https://i.ytimg.com/vi/2bbn9b79LRc/default.jpg</td>\n      <td>False</td>\n      <td>False</td>\n      <td>Mehr von unserem Trip quer durch Deutschland, ...</td>\n      <td>Entertainment</td>\n      <td>True</td>\n      <td>DE</td>\n    </tr>\n    <tr>\n      <th>3</th>\n      <td>Zv-3qNnAMaM</td>\n      <td>Ich TESTE SHEIN BIKINIS (try on haul) - UNMÖGL...</td>\n      <td>2020-08-12T09:00:08Z</td>\n      <td>UCccDoH6QpRCjjcMgl5f88wA</td>\n      <td>Einfach Marci</td>\n      <td>24</td>\n      <td>2020-08-12T00:00:00Z</td>\n      <td>[None]</td>\n      <td>55640</td>\n      <td>3420</td>\n      <td>124</td>\n      <td>229</td>\n      <td>https://i.ytimg.com/vi/Zv-3qNnAMaM/default.jpg</td>\n      <td>False</td>\n      <td>False</td>\n      <td>Heii Cuties,Was soll ich in kommender Zeit noc...</td>\n      <td>Entertainment</td>\n      <td>False</td>\n      <td>DE</td>\n    </tr>\n  </tbody>\n</table>\n</div>"
     },
     "execution_count": 25,
     "metadata": {},
     "output_type": "execute_result"
    }
   ],
   "source": [
    "region_column = []\n",
    "for i in range(df.shape[0]):\n",
    "    region_column.append(region)\n",
    "df['region'] = region_column\n",
    "df.iloc[:4]"
   ],
   "metadata": {
    "collapsed": false,
    "pycharm": {
     "name": "#%%\n"
    }
   }
  },
  {
   "cell_type": "markdown",
   "source": [
    "### add local time\n",
    "https://www.kaggle.com/rsrishav/youtube-trending-video-dataset/discussion/249956 -> data is in standard time"
   ],
   "metadata": {
    "collapsed": false,
    "pycharm": {
     "name": "#%% md\n"
    }
   }
  },
  {
   "cell_type": "code",
   "execution_count": 26,
   "outputs": [
    {
     "name": "stdout",
     "output_type": "stream",
     "text": [
      "2020-08-11T18:00:03Z\n"
     ]
    },
    {
     "ename": "NameError",
     "evalue": "name 'date' is not defined",
     "output_type": "error",
     "traceback": [
      "\u001B[1;31m---------------------------------------------------------------------------\u001B[0m",
      "\u001B[1;31mNameError\u001B[0m                                 Traceback (most recent call last)",
      "\u001B[1;32mC:\\Users\\YASARP~1\\AppData\\Local\\Temp/ipykernel_11376/1579048350.py\u001B[0m in \u001B[0;36m<module>\u001B[1;34m\u001B[0m\n\u001B[0;32m      5\u001B[0m \u001B[0mformat_date\u001B[0m \u001B[1;33m=\u001B[0m \u001B[1;34m'%Y-%m-%dT%H:%M:%SZ'\u001B[0m\u001B[1;33m\u001B[0m\u001B[1;33m\u001B[0m\u001B[0m\n\u001B[0;32m      6\u001B[0m \u001B[1;32mfor\u001B[0m \u001B[0mrow\u001B[0m \u001B[1;32min\u001B[0m \u001B[0menumerate\u001B[0m\u001B[1;33m(\u001B[0m\u001B[0mdf\u001B[0m\u001B[1;33m[\u001B[0m\u001B[1;34m'publishedAt'\u001B[0m\u001B[1;33m]\u001B[0m\u001B[1;33m)\u001B[0m\u001B[1;33m:\u001B[0m\u001B[1;31m# todo iterate through dataset\u001B[0m\u001B[1;33m\u001B[0m\u001B[1;33m\u001B[0m\u001B[0m\n\u001B[1;32m----> 7\u001B[1;33m     \u001B[0mdf\u001B[0m\u001B[1;33m[\u001B[0m\u001B[1;34m'publishedAt'\u001B[0m\u001B[1;33m]\u001B[0m\u001B[1;33m[\u001B[0m\u001B[0midx\u001B[0m\u001B[1;33m]\u001B[0m \u001B[1;33m=\u001B[0m\u001B[0mdatetime\u001B[0m\u001B[1;33m.\u001B[0m\u001B[0mdatetime\u001B[0m\u001B[1;33m.\u001B[0m\u001B[0mstrptime\u001B[0m\u001B[1;33m(\u001B[0m\u001B[0mdate\u001B[0m\u001B[1;33m,\u001B[0m\u001B[0mformat_date\u001B[0m\u001B[1;33m)\u001B[0m\u001B[1;33m\u001B[0m\u001B[1;33m\u001B[0m\u001B[0m\n\u001B[0m\u001B[0;32m      8\u001B[0m \u001B[1;33m\u001B[0m\u001B[0m\n",
      "\u001B[1;31mNameError\u001B[0m: name 'date' is not defined"
     ]
    }
   ],
   "source": [
    "test = df['publishedAt'][0]\n",
    "print(test)\n",
    "#2020-08-11T18:00:03Z\n",
    "#change time format to be not terrible\n",
    "format_date = '%Y-%m-%dT%H:%M:%SZ'\n",
    "for row in enumerate(df['publishedAt']):# todo iterate through dataset\n",
    "    df['publishedAt'][idx] =datetime.datetime.strptime(date,format_date)"
   ],
   "metadata": {
    "collapsed": false,
    "pycharm": {
     "name": "#%%\n"
    }
   }
  },
  {
   "cell_type": "code",
   "execution_count": null,
   "outputs": [],
   "source": [
    "\"\"\"\n",
    "timezones = dict([\n",
    "    'BR' =\n",
    "])\"\"\""
   ],
   "metadata": {
    "collapsed": false,
    "pycharm": {
     "name": "#%%\n"
    }
   }
  }
 ],
 "metadata": {
  "kernelspec": {
   "display_name": "Python 3",
   "language": "python",
   "name": "python3"
  },
  "language_info": {
   "codemirror_mode": {
    "name": "ipython",
    "version": 2
   },
   "file_extension": ".py",
   "mimetype": "text/x-python",
   "name": "python",
   "nbconvert_exporter": "python",
   "pygments_lexer": "ipython2",
   "version": "2.7.6"
  }
 },
 "nbformat": 4,
 "nbformat_minor": 0
}