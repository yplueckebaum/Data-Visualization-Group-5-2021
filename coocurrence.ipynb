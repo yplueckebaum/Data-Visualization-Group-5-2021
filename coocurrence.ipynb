{
 "cells": [
  {
   "cell_type": "code",
   "execution_count": null,
   "metadata": {
    "collapsed": true,
    "pycharm": {
     "name": "#%%\n"
    }
   },
   "outputs": [],
   "source": [
    "%matplotlib inline\n",
    "import matplotlib.pyplot as plt\n",
    "import pandas as pd\n",
    "import numpy as np\n",
    "import seaborn as sns\n",
    "import tables\n",
    "import math\n",
    "from scipy.sparse import dok_matrix"
   ]
  },
  {
   "cell_type": "code",
   "execution_count": null,
   "outputs": [],
   "source": [
    "# count matrix coocurrence and occurrence of each tag\n",
    "    # only fill lower triagle or only return that scipy.sparse.triu¶\n",
    "\n",
    "\n",
    "# calculate distrance matrix\n",
    "    # find occurrence of every tag\n",
    "    # convert to graph\n",
    "    # edge weight depends on coocurrence\n",
    "    #option 1: convert to graph and use graph distance metric\n",
    "        # cluster with https://github.com/trueprice/python-graph-clustering\n",
    "    #option 2 find distance metric and cluster based on resulting distance matrix\n",
    "        # construct distance matrix from matrix(is that possible without imploding? How to optimize)\n",
    "        # cluster with precomputed distance measure using sklearn.cluster.AffinityPropagation\n",
    "        # profit\n",
    "\n",
    "#integrate into pyplot\n",
    "    # size of bubble is the occureence of that tag\n",
    "    # minimum weight for appearence"
   ],
   "metadata": {
    "collapsed": false,
    "pycharm": {
     "name": "#%%\n"
    }
   }
  }
 ],
 "metadata": {
  "kernelspec": {
   "display_name": "Python 3",
   "language": "python",
   "name": "python3"
  },
  "language_info": {
   "codemirror_mode": {
    "name": "ipython",
    "version": 2
   },
   "file_extension": ".py",
   "mimetype": "text/x-python",
   "name": "python",
   "nbconvert_exporter": "python",
   "pygments_lexer": "ipython2",
   "version": "2.7.6"
  }
 },
 "nbformat": 4,
 "nbformat_minor": 0
}