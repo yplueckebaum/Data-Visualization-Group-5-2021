{
 "cells": [
  {
   "cell_type": "code",
   "execution_count": null,
   "metadata": {
    "collapsed": true
   },
   "outputs": [],
   "source": [
    "from Data_processing.Coocurrence.cooccurrence import CoOccurrence\n",
    "import numpy as np"
   ]
  },
  {
   "cell_type": "code",
   "execution_count": null,
   "outputs": [],
   "source": [
    "cooccurrence = CoOccurrence()"
   ],
   "metadata": {
    "collapsed": false,
    "pycharm": {
     "name": "#%%\n"
    }
   }
  },
  {
   "cell_type": "code",
   "execution_count": null,
   "outputs": [],
   "source": [
    "cooccurrence.generate_occurrences(dtype_co_occurrence=np.uint32);"
   ],
   "metadata": {
    "collapsed": false,
    "pycharm": {
     "name": "#%%\n"
    }
   }
  },
  {
   "cell_type": "code",
   "execution_count": null,
   "outputs": [],
   "source": [
    "cooccurrence.generate_graph()\n",
    "cooccurrence.generate_partition()"
   ],
   "metadata": {
    "collapsed": false,
    "pycharm": {
     "name": "#%%\n"
    }
   }
  },
  {
   "cell_type": "code",
   "execution_count": null,
   "outputs": [],
   "source": [
    "from make_network_graph import make_network_fig\n",
    "import networkx as nx"
   ],
   "metadata": {
    "collapsed": false,
    "pycharm": {
     "name": "#%%\n"
    }
   }
  },
  {
   "cell_type": "code",
   "execution_count": null,
   "outputs": [],
   "source": [
    "max(cooccurrence.partition.values())"
   ],
   "metadata": {
    "collapsed": false,
    "pycharm": {
     "name": "#%%\n"
    }
   }
  },
  {
   "cell_type": "code",
   "execution_count": null,
   "outputs": [],
   "source": [
    "layout = nx.drawing.layout.kamada_kawai_layout(G=cooccurrence.tag_graph)\n",
    "fig = make_network_fig(cooccurrence.tag_graph,cooccurrence,None,layout,0)"
   ],
   "metadata": {
    "collapsed": false,
    "pycharm": {
     "name": "#%%\n"
    }
   }
  },
  {
   "cell_type": "code",
   "execution_count": null,
   "outputs": [],
   "source": [
    "fig.show()\n",
    "#todo: only include edges with high enough weight"
   ],
   "metadata": {
    "collapsed": false,
    "pycharm": {
     "name": "#%%\n"
    }
   }
  },
  {
   "cell_type": "markdown",
   "source": [
    "Ok im gonna try to apply the clustering later today.\n",
    "My todo list would be:\n",
    "- trigger new graph with button\n",
    "- highlight nodes and display info when clicked(and only highlight that nodes edges? Might be able to Combine by pressing shift see plotly tutorial)\n",
    "- Only use symbols with area\n",
    "- integrate into dashboard\n",
    "- link plot to filtered dataframe\n",
    "- link top tags graph to search function\n",
    "(!- use scattergl for big speed/usability increase)\n",
    "(make slider for edge_degree_min)\n",
    "- edges overdraw\n",
    "- make network figure bigger\n",
    "\n",
    "Limitations:\n",
    "- edge filter that only lets strongest edges though\n",
    "- highlight adjacient edges when selecting single nodes\n",
    "- efficiency improvement\n",
    "- better layout\n",
    "- use things like gephi for inbuild solutiion\n",
    "- size as node degree, color as cluster to allow unlimited clusters(repeating colors for far away clusters)\n",
    "- worse with mccinley but scales better"
   ],
   "metadata": {
    "collapsed": false,
    "pycharm": {
     "name": "#%% md\n"
    }
   }
  },
  {
   "cell_type": "code",
   "source": [
    "# https://plotly.com/python/marker-style/\n",
    "\n",
    "import plotly.graph_objects as go\n",
    "from plotly.validators.scatter.marker import SymbolValidator\n",
    "\n",
    "unprocessed_symbols = SymbolValidator().values#%%\n",
    "\n",
    "symbols = []\n",
    "for i in range(0,len(unprocessed_symbols),3):\n",
    "    symbols.append(unprocessed_symbols[i])"
   ],
   "metadata": {
    "collapsed": false,
    "pycharm": {
     "name": "#%%\n"
    }
   },
   "execution_count": null,
   "outputs": []
  },
  {
   "cell_type": "code",
   "execution_count": null,
   "outputs": [],
   "source": [
    "elements = symbols[:100]# + symbols[200:225] + symbols[300:325]\n",
    "len(elements)"
   ],
   "metadata": {
    "collapsed": false,
    "pycharm": {
     "name": "#%%\n"
    }
   }
  },
  {
   "cell_type": "code",
   "execution_count": null,
   "outputs": [],
   "source": [
    "go.Figure(go.Scatter(mode=\"markers\", x=np.random.choice(len(elements),len(elements)),\n",
    "                     y=np.random.choice(len(elements),len(elements)),\n",
    "                     marker_symbol=elements))"
   ],
   "metadata": {
    "collapsed": false,
    "pycharm": {
     "name": "#%%\n"
    }
   }
  },
  {
   "cell_type": "code",
   "execution_count": null,
   "outputs": [],
   "source": [
    "np.random.choice(len(elements),len(elements))"
   ],
   "metadata": {
    "collapsed": false,
    "pycharm": {
     "name": "#%%\n"
    }
   }
  },
  {
   "cell_type": "code",
   "execution_count": null,
   "outputs": [],
   "source": [
    "len(elements)\n"
   ],
   "metadata": {
    "collapsed": false,
    "pycharm": {
     "name": "#%%\n"
    }
   }
  },
  {
   "cell_type": "code",
   "execution_count": null,
   "outputs": [],
   "source": [
    "from plotly.validators.scatter.marker import SymbolValidator\n",
    "unprocessed_symbols = SymbolValidator().values\n",
    "for i in range(0, len(unprocessed_symbols), 3):\n",
    "    print(unprocessed_symbols[i])"
   ],
   "metadata": {
    "collapsed": false,
    "pycharm": {
     "name": "#%%\n"
    }
   }
  },
  {
   "cell_type": "code",
   "execution_count": 4,
   "outputs": [
    {
     "name": "stdout",
     "output_type": "stream",
     "text": [
      "0\n",
      "100\n",
      "200\n",
      "300\n",
      "1\n",
      "101\n",
      "201\n",
      "301\n",
      "2\n",
      "102\n",
      "202\n",
      "302\n",
      "3\n",
      "103\n",
      "203\n",
      "303\n",
      "4\n",
      "104\n",
      "204\n",
      "304\n",
      "5\n",
      "105\n",
      "205\n",
      "305\n",
      "6\n",
      "106\n",
      "206\n",
      "306\n",
      "7\n",
      "107\n",
      "207\n",
      "307\n",
      "8\n",
      "108\n",
      "208\n",
      "308\n",
      "9\n",
      "109\n",
      "209\n",
      "309\n",
      "10\n",
      "110\n",
      "210\n",
      "310\n",
      "11\n",
      "111\n",
      "211\n",
      "311\n",
      "12\n",
      "112\n",
      "212\n",
      "312\n",
      "13\n",
      "113\n",
      "213\n",
      "313\n",
      "14\n",
      "114\n",
      "214\n",
      "314\n",
      "15\n",
      "115\n",
      "215\n",
      "315\n",
      "16\n",
      "116\n",
      "216\n",
      "316\n",
      "17\n",
      "117\n",
      "217\n",
      "317\n",
      "18\n",
      "118\n",
      "218\n",
      "318\n",
      "19\n",
      "119\n",
      "219\n",
      "319\n",
      "20\n",
      "120\n",
      "220\n",
      "320\n",
      "21\n",
      "121\n",
      "221\n",
      "321\n",
      "22\n",
      "122\n",
      "222\n",
      "322\n",
      "23\n",
      "123\n",
      "223\n",
      "323\n",
      "24\n",
      "124\n",
      "224\n",
      "324\n",
      "25\n",
      "125\n",
      "26\n",
      "126\n",
      "27\n",
      "127\n",
      "28\n",
      "128\n",
      "29\n",
      "129\n",
      "30\n",
      "130\n",
      "31\n",
      "131\n",
      "32\n",
      "132\n",
      "33\n",
      "133\n",
      "34\n",
      "134\n",
      "35\n",
      "135\n",
      "36\n",
      "136\n",
      "236\n",
      "336\n",
      "37\n",
      "137\n",
      "38\n",
      "138\n",
      "39\n",
      "139\n",
      "40\n",
      "140\n",
      "41\n",
      "141\n",
      "42\n",
      "142\n",
      "43\n",
      "143\n",
      "44\n",
      "144\n",
      "45\n",
      "145\n",
      "46\n",
      "146\n",
      "47\n",
      "147\n",
      "48\n",
      "148\n",
      "49\n",
      "149\n",
      "50\n",
      "150\n",
      "51\n",
      "151\n",
      "52\n",
      "152\n"
     ]
    }
   ],
   "source": [],
   "metadata": {
    "collapsed": false,
    "pycharm": {
     "name": "#%%\n"
    }
   }
  },
  {
   "cell_type": "code",
   "execution_count": null,
   "outputs": [],
   "source": [],
   "metadata": {
    "collapsed": false,
    "pycharm": {
     "name": "#%%\n"
    }
   }
  }
 ],
 "metadata": {
  "kernelspec": {
   "display_name": "Python 3",
   "language": "python",
   "name": "python3"
  },
  "language_info": {
   "codemirror_mode": {
    "name": "ipython",
    "version": 2
   },
   "file_extension": ".py",
   "mimetype": "text/x-python",
   "name": "python",
   "nbconvert_exporter": "python",
   "pygments_lexer": "ipython2",
   "version": "2.7.6"
  }
 },
 "nbformat": 4,
 "nbformat_minor": 0
}