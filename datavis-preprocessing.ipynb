{
 "cells": [
  {
   "cell_type": "code",
   "execution_count": 20,
   "metadata": {
    "collapsed": true
   },
   "outputs": [],
   "source": [
    "import numpy as np\n",
    "import os\n",
    "import glob\n",
    "import seaborn as sb\n",
    "import matplotlib as plt\n",
    "import pandas as pd\n",
    "%matplotlib inline"
   ]
  },
  {
   "cell_type": "code",
   "execution_count": 38,
   "outputs": [
    {
     "data": {
      "text/plain": "      video_id                                              title  \\\n0  KJi2qg5F-9E                     Bonez MC - HOLLYWOOD (Snippet)   \n1  K0vYnOn7wZI  Nik hat heftige Probleme in Köln! 😱😫 #1925 | K...   \n2  2bbn9b79LRc  Camper Tour 2020 - ROADTRIP durch Österreich |...   \n3  Zv-3qNnAMaM  Ich TESTE SHEIN BIKINIS (try on haul) - UNMÖGL...   \n4  7clgQLneouU  STATEMENT zu meinem BAN! 😒 | Bald vielleicht P...   \n\n            publishedAt                 channelId   channelTitle  categoryId  \\\n0  2020-08-11T18:00:03Z  UCGh8tmH9x9njaI2mXfh2fyg       CrhymeTV          10   \n1  2020-08-11T17:00:09Z  UCnrvUg5MJWPDSrv_voT7AqA     Köln 50667          24   \n2  2020-08-11T18:00:00Z  UCBt8RY61tvanrhkzeZdNICw     AnaJohnson          24   \n3  2020-08-12T09:00:08Z  UCccDoH6QpRCjjcMgl5f88wA  Einfach Marci          24   \n4  2020-08-11T12:00:02Z  UC8E8eD7mOcnMazJT4laKbFQ           Domo          24   \n\n          trending_date                                               tags  \\\n0  2020-08-12T00:00:00Z  187|187 Strassenbande|BONEZ MC|RAF Camora|MAXW...   \n1  2020-08-12T00:00:00Z  Köln|50667|RTL2|RTL|Serie|k50667|ganze folge|t...   \n2  2020-08-12T00:00:00Z  camper tour|camper tour deutsch|camper tour de...   \n3  2020-08-12T00:00:00Z                                             [None]   \n4  2020-08-12T00:00:00Z  Papaplatte|papaplatte twitch best of|papaplatt...   \n\n   view_count  likes  dislikes  comment_count  \\\n0      573902  69319       970           3311   \n1      381375  13637       435            866   \n2      142296   9480       144            364   \n3       55640   3420       124            229   \n4      233899  25251       375           1051   \n\n                                   thumbnail_link  comments_disabled  \\\n0  https://i.ytimg.com/vi/KJi2qg5F-9E/default.jpg              False   \n1  https://i.ytimg.com/vi/K0vYnOn7wZI/default.jpg              False   \n2  https://i.ytimg.com/vi/2bbn9b79LRc/default.jpg              False   \n3  https://i.ytimg.com/vi/Zv-3qNnAMaM/default.jpg              False   \n4  https://i.ytimg.com/vi/7clgQLneouU/default.jpg              False   \n\n   ratings_disabled                                        description  \n0             False  Hollywood Fanbox vorbestellen ► http://bonezmc...  \n1             False  Toni gerät in Panik, als plötzlich ein Unbekan...  \n2             False  Mehr von unserem Trip quer durch Deutschland, ...  \n3             False  Heii Cuties,Was soll ich in kommender Zeit noc...  \n4             False  Domo hier! Abonnieren! Liken! Genießen!\\r\\rWen...  ",
      "text/html": "<div>\n<style scoped>\n    .dataframe tbody tr th:only-of-type {\n        vertical-align: middle;\n    }\n\n    .dataframe tbody tr th {\n        vertical-align: top;\n    }\n\n    .dataframe thead th {\n        text-align: right;\n    }\n</style>\n<table border=\"1\" class=\"dataframe\">\n  <thead>\n    <tr style=\"text-align: right;\">\n      <th></th>\n      <th>video_id</th>\n      <th>title</th>\n      <th>publishedAt</th>\n      <th>channelId</th>\n      <th>channelTitle</th>\n      <th>categoryId</th>\n      <th>trending_date</th>\n      <th>tags</th>\n      <th>view_count</th>\n      <th>likes</th>\n      <th>dislikes</th>\n      <th>comment_count</th>\n      <th>thumbnail_link</th>\n      <th>comments_disabled</th>\n      <th>ratings_disabled</th>\n      <th>description</th>\n    </tr>\n  </thead>\n  <tbody>\n    <tr>\n      <th>0</th>\n      <td>KJi2qg5F-9E</td>\n      <td>Bonez MC - HOLLYWOOD (Snippet)</td>\n      <td>2020-08-11T18:00:03Z</td>\n      <td>UCGh8tmH9x9njaI2mXfh2fyg</td>\n      <td>CrhymeTV</td>\n      <td>10</td>\n      <td>2020-08-12T00:00:00Z</td>\n      <td>187|187 Strassenbande|BONEZ MC|RAF Camora|MAXW...</td>\n      <td>573902</td>\n      <td>69319</td>\n      <td>970</td>\n      <td>3311</td>\n      <td>https://i.ytimg.com/vi/KJi2qg5F-9E/default.jpg</td>\n      <td>False</td>\n      <td>False</td>\n      <td>Hollywood Fanbox vorbestellen ► http://bonezmc...</td>\n    </tr>\n    <tr>\n      <th>1</th>\n      <td>K0vYnOn7wZI</td>\n      <td>Nik hat heftige Probleme in Köln! 😱😫 #1925 | K...</td>\n      <td>2020-08-11T17:00:09Z</td>\n      <td>UCnrvUg5MJWPDSrv_voT7AqA</td>\n      <td>Köln 50667</td>\n      <td>24</td>\n      <td>2020-08-12T00:00:00Z</td>\n      <td>Köln|50667|RTL2|RTL|Serie|k50667|ganze folge|t...</td>\n      <td>381375</td>\n      <td>13637</td>\n      <td>435</td>\n      <td>866</td>\n      <td>https://i.ytimg.com/vi/K0vYnOn7wZI/default.jpg</td>\n      <td>False</td>\n      <td>False</td>\n      <td>Toni gerät in Panik, als plötzlich ein Unbekan...</td>\n    </tr>\n    <tr>\n      <th>2</th>\n      <td>2bbn9b79LRc</td>\n      <td>Camper Tour 2020 - ROADTRIP durch Österreich |...</td>\n      <td>2020-08-11T18:00:00Z</td>\n      <td>UCBt8RY61tvanrhkzeZdNICw</td>\n      <td>AnaJohnson</td>\n      <td>24</td>\n      <td>2020-08-12T00:00:00Z</td>\n      <td>camper tour|camper tour deutsch|camper tour de...</td>\n      <td>142296</td>\n      <td>9480</td>\n      <td>144</td>\n      <td>364</td>\n      <td>https://i.ytimg.com/vi/2bbn9b79LRc/default.jpg</td>\n      <td>False</td>\n      <td>False</td>\n      <td>Mehr von unserem Trip quer durch Deutschland, ...</td>\n    </tr>\n    <tr>\n      <th>3</th>\n      <td>Zv-3qNnAMaM</td>\n      <td>Ich TESTE SHEIN BIKINIS (try on haul) - UNMÖGL...</td>\n      <td>2020-08-12T09:00:08Z</td>\n      <td>UCccDoH6QpRCjjcMgl5f88wA</td>\n      <td>Einfach Marci</td>\n      <td>24</td>\n      <td>2020-08-12T00:00:00Z</td>\n      <td>[None]</td>\n      <td>55640</td>\n      <td>3420</td>\n      <td>124</td>\n      <td>229</td>\n      <td>https://i.ytimg.com/vi/Zv-3qNnAMaM/default.jpg</td>\n      <td>False</td>\n      <td>False</td>\n      <td>Heii Cuties,Was soll ich in kommender Zeit noc...</td>\n    </tr>\n    <tr>\n      <th>4</th>\n      <td>7clgQLneouU</td>\n      <td>STATEMENT zu meinem BAN! 😒 | Bald vielleicht P...</td>\n      <td>2020-08-11T12:00:02Z</td>\n      <td>UC8E8eD7mOcnMazJT4laKbFQ</td>\n      <td>Domo</td>\n      <td>24</td>\n      <td>2020-08-12T00:00:00Z</td>\n      <td>Papaplatte|papaplatte twitch best of|papaplatt...</td>\n      <td>233899</td>\n      <td>25251</td>\n      <td>375</td>\n      <td>1051</td>\n      <td>https://i.ytimg.com/vi/7clgQLneouU/default.jpg</td>\n      <td>False</td>\n      <td>False</td>\n      <td>Domo hier! Abonnieren! Liken! Genießen!\\r\\rWen...</td>\n    </tr>\n  </tbody>\n</table>\n</div>"
     },
     "execution_count": 38,
     "metadata": {},
     "output_type": "execute_result"
    }
   ],
   "source": [
    "# todo combine csv's\n",
    "df = pd.read_csv(\"Dataset/DE_youtube_trending_data.csv\")\n",
    "df.head()"
   ],
   "metadata": {
    "collapsed": false,
    "pycharm": {
     "name": "#%%\n"
    }
   }
  },
  {
   "cell_type": "code",
   "execution_count": 23,
   "outputs": [
    {
     "data": {
      "text/plain": "      video_id                                              title  \\\n0  KJi2qg5F-9E                     Bonez MC - HOLLYWOOD (Snippet)   \n1  K0vYnOn7wZI  Nik hat heftige Probleme in Köln! 😱😫 #1925 | K...   \n2  2bbn9b79LRc  Camper Tour 2020 - ROADTRIP durch Österreich |...   \n3  Zv-3qNnAMaM  Ich TESTE SHEIN BIKINIS (try on haul) - UNMÖGL...   \n4  7clgQLneouU  STATEMENT zu meinem BAN! 😒 | Bald vielleicht P...   \n\n            publishedAt                 channelId   channelTitle  categoryId  \\\n0  2020-08-11T18:00:03Z  UCGh8tmH9x9njaI2mXfh2fyg       CrhymeTV          10   \n1  2020-08-11T17:00:09Z  UCnrvUg5MJWPDSrv_voT7AqA     Köln 50667          24   \n2  2020-08-11T18:00:00Z  UCBt8RY61tvanrhkzeZdNICw     AnaJohnson          24   \n3  2020-08-12T09:00:08Z  UCccDoH6QpRCjjcMgl5f88wA  Einfach Marci          24   \n4  2020-08-11T12:00:02Z  UC8E8eD7mOcnMazJT4laKbFQ           Domo          24   \n\n          trending_date                                               tags  \\\n0  2020-08-12T00:00:00Z  187|187 Strassenbande|BONEZ MC|RAF Camora|MAXW...   \n1  2020-08-12T00:00:00Z  Köln|50667|RTL2|RTL|Serie|k50667|ganze folge|t...   \n2  2020-08-12T00:00:00Z  camper tour|camper tour deutsch|camper tour de...   \n3  2020-08-12T00:00:00Z                                                NaN   \n4  2020-08-12T00:00:00Z  Papaplatte|papaplatte twitch best of|papaplatt...   \n\n   view_count  likes  dislikes  comment_count  \\\n0      573902  69319       970           3311   \n1      381375  13637       435            866   \n2      142296   9480       144            364   \n3       55640   3420       124            229   \n4      233899  25251       375           1051   \n\n                                   thumbnail_link  comments_disabled  \\\n0  https://i.ytimg.com/vi/KJi2qg5F-9E/default.jpg              False   \n1  https://i.ytimg.com/vi/K0vYnOn7wZI/default.jpg              False   \n2  https://i.ytimg.com/vi/2bbn9b79LRc/default.jpg              False   \n3  https://i.ytimg.com/vi/Zv-3qNnAMaM/default.jpg              False   \n4  https://i.ytimg.com/vi/7clgQLneouU/default.jpg              False   \n\n   ratings_disabled                                        description  \n0             False  Hollywood Fanbox vorbestellen ► http://bonezmc...  \n1             False  Toni gerät in Panik, als plötzlich ein Unbekan...  \n2             False  Mehr von unserem Trip quer durch Deutschland, ...  \n3             False  Heii Cuties,Was soll ich in kommender Zeit noc...  \n4             False  Domo hier! Abonnieren! Liken! Genießen!\\r\\rWen...  ",
      "text/html": "<div>\n<style scoped>\n    .dataframe tbody tr th:only-of-type {\n        vertical-align: middle;\n    }\n\n    .dataframe tbody tr th {\n        vertical-align: top;\n    }\n\n    .dataframe thead th {\n        text-align: right;\n    }\n</style>\n<table border=\"1\" class=\"dataframe\">\n  <thead>\n    <tr style=\"text-align: right;\">\n      <th></th>\n      <th>video_id</th>\n      <th>title</th>\n      <th>publishedAt</th>\n      <th>channelId</th>\n      <th>channelTitle</th>\n      <th>categoryId</th>\n      <th>trending_date</th>\n      <th>tags</th>\n      <th>view_count</th>\n      <th>likes</th>\n      <th>dislikes</th>\n      <th>comment_count</th>\n      <th>thumbnail_link</th>\n      <th>comments_disabled</th>\n      <th>ratings_disabled</th>\n      <th>description</th>\n    </tr>\n  </thead>\n  <tbody>\n    <tr>\n      <th>0</th>\n      <td>KJi2qg5F-9E</td>\n      <td>Bonez MC - HOLLYWOOD (Snippet)</td>\n      <td>2020-08-11T18:00:03Z</td>\n      <td>UCGh8tmH9x9njaI2mXfh2fyg</td>\n      <td>CrhymeTV</td>\n      <td>10</td>\n      <td>2020-08-12T00:00:00Z</td>\n      <td>187|187 Strassenbande|BONEZ MC|RAF Camora|MAXW...</td>\n      <td>573902</td>\n      <td>69319</td>\n      <td>970</td>\n      <td>3311</td>\n      <td>https://i.ytimg.com/vi/KJi2qg5F-9E/default.jpg</td>\n      <td>False</td>\n      <td>False</td>\n      <td>Hollywood Fanbox vorbestellen ► http://bonezmc...</td>\n    </tr>\n    <tr>\n      <th>1</th>\n      <td>K0vYnOn7wZI</td>\n      <td>Nik hat heftige Probleme in Köln! 😱😫 #1925 | K...</td>\n      <td>2020-08-11T17:00:09Z</td>\n      <td>UCnrvUg5MJWPDSrv_voT7AqA</td>\n      <td>Köln 50667</td>\n      <td>24</td>\n      <td>2020-08-12T00:00:00Z</td>\n      <td>Köln|50667|RTL2|RTL|Serie|k50667|ganze folge|t...</td>\n      <td>381375</td>\n      <td>13637</td>\n      <td>435</td>\n      <td>866</td>\n      <td>https://i.ytimg.com/vi/K0vYnOn7wZI/default.jpg</td>\n      <td>False</td>\n      <td>False</td>\n      <td>Toni gerät in Panik, als plötzlich ein Unbekan...</td>\n    </tr>\n    <tr>\n      <th>2</th>\n      <td>2bbn9b79LRc</td>\n      <td>Camper Tour 2020 - ROADTRIP durch Österreich |...</td>\n      <td>2020-08-11T18:00:00Z</td>\n      <td>UCBt8RY61tvanrhkzeZdNICw</td>\n      <td>AnaJohnson</td>\n      <td>24</td>\n      <td>2020-08-12T00:00:00Z</td>\n      <td>camper tour|camper tour deutsch|camper tour de...</td>\n      <td>142296</td>\n      <td>9480</td>\n      <td>144</td>\n      <td>364</td>\n      <td>https://i.ytimg.com/vi/2bbn9b79LRc/default.jpg</td>\n      <td>False</td>\n      <td>False</td>\n      <td>Mehr von unserem Trip quer durch Deutschland, ...</td>\n    </tr>\n    <tr>\n      <th>3</th>\n      <td>Zv-3qNnAMaM</td>\n      <td>Ich TESTE SHEIN BIKINIS (try on haul) - UNMÖGL...</td>\n      <td>2020-08-12T09:00:08Z</td>\n      <td>UCccDoH6QpRCjjcMgl5f88wA</td>\n      <td>Einfach Marci</td>\n      <td>24</td>\n      <td>2020-08-12T00:00:00Z</td>\n      <td>NaN</td>\n      <td>55640</td>\n      <td>3420</td>\n      <td>124</td>\n      <td>229</td>\n      <td>https://i.ytimg.com/vi/Zv-3qNnAMaM/default.jpg</td>\n      <td>False</td>\n      <td>False</td>\n      <td>Heii Cuties,Was soll ich in kommender Zeit noc...</td>\n    </tr>\n    <tr>\n      <th>4</th>\n      <td>7clgQLneouU</td>\n      <td>STATEMENT zu meinem BAN! 😒 | Bald vielleicht P...</td>\n      <td>2020-08-11T12:00:02Z</td>\n      <td>UC8E8eD7mOcnMazJT4laKbFQ</td>\n      <td>Domo</td>\n      <td>24</td>\n      <td>2020-08-12T00:00:00Z</td>\n      <td>Papaplatte|papaplatte twitch best of|papaplatt...</td>\n      <td>233899</td>\n      <td>25251</td>\n      <td>375</td>\n      <td>1051</td>\n      <td>https://i.ytimg.com/vi/7clgQLneouU/default.jpg</td>\n      <td>False</td>\n      <td>False</td>\n      <td>Domo hier! Abonnieren! Liken! Genießen!\\r\\rWen...</td>\n    </tr>\n  </tbody>\n</table>\n</div>"
     },
     "execution_count": 23,
     "metadata": {},
     "output_type": "execute_result"
    }
   ],
   "source": [
    "df.replace(\"[None]\",np.nan,inplace=True)\n",
    "df.head()"
   ],
   "metadata": {
    "collapsed": false,
    "pycharm": {
     "name": "#%%\n"
    }
   }
  },
  {
   "cell_type": "code",
   "execution_count": 24,
   "outputs": [
    {
     "data": {
      "text/plain": "    video_id  title  publishedAt  channelId  channelTitle  categoryId  \\\n0      False  False        False      False         False       False   \n1      False  False        False      False         False       False   \n2      False  False        False      False         False       False   \n3      False  False        False      False         False       False   \n4      False  False        False      False         False       False   \n..       ...    ...          ...        ...           ...         ...   \n95     False  False        False      False         False       False   \n96     False  False        False      False         False       False   \n97     False  False        False      False         False       False   \n98     False  False        False      False         False       False   \n99     False  False        False      False         False       False   \n\n    trending_date   tags  view_count  likes  dislikes  comment_count  \\\n0           False  False       False  False     False          False   \n1           False  False       False  False     False          False   \n2           False  False       False  False     False          False   \n3           False   True       False  False     False          False   \n4           False  False       False  False     False          False   \n..            ...    ...         ...    ...       ...            ...   \n95          False  False       False  False     False          False   \n96          False  False       False  False     False          False   \n97          False  False       False  False     False          False   \n98          False  False       False  False     False          False   \n99          False  False       False  False     False          False   \n\n    thumbnail_link  comments_disabled  ratings_disabled  description  \n0            False              False             False        False  \n1            False              False             False        False  \n2            False              False             False        False  \n3            False              False             False        False  \n4            False              False             False        False  \n..             ...                ...               ...          ...  \n95           False              False             False        False  \n96           False              False             False        False  \n97           False              False             False        False  \n98           False              False             False        False  \n99           False              False             False        False  \n\n[100 rows x 16 columns]",
      "text/html": "<div>\n<style scoped>\n    .dataframe tbody tr th:only-of-type {\n        vertical-align: middle;\n    }\n\n    .dataframe tbody tr th {\n        vertical-align: top;\n    }\n\n    .dataframe thead th {\n        text-align: right;\n    }\n</style>\n<table border=\"1\" class=\"dataframe\">\n  <thead>\n    <tr style=\"text-align: right;\">\n      <th></th>\n      <th>video_id</th>\n      <th>title</th>\n      <th>publishedAt</th>\n      <th>channelId</th>\n      <th>channelTitle</th>\n      <th>categoryId</th>\n      <th>trending_date</th>\n      <th>tags</th>\n      <th>view_count</th>\n      <th>likes</th>\n      <th>dislikes</th>\n      <th>comment_count</th>\n      <th>thumbnail_link</th>\n      <th>comments_disabled</th>\n      <th>ratings_disabled</th>\n      <th>description</th>\n    </tr>\n  </thead>\n  <tbody>\n    <tr>\n      <th>0</th>\n      <td>False</td>\n      <td>False</td>\n      <td>False</td>\n      <td>False</td>\n      <td>False</td>\n      <td>False</td>\n      <td>False</td>\n      <td>False</td>\n      <td>False</td>\n      <td>False</td>\n      <td>False</td>\n      <td>False</td>\n      <td>False</td>\n      <td>False</td>\n      <td>False</td>\n      <td>False</td>\n    </tr>\n    <tr>\n      <th>1</th>\n      <td>False</td>\n      <td>False</td>\n      <td>False</td>\n      <td>False</td>\n      <td>False</td>\n      <td>False</td>\n      <td>False</td>\n      <td>False</td>\n      <td>False</td>\n      <td>False</td>\n      <td>False</td>\n      <td>False</td>\n      <td>False</td>\n      <td>False</td>\n      <td>False</td>\n      <td>False</td>\n    </tr>\n    <tr>\n      <th>2</th>\n      <td>False</td>\n      <td>False</td>\n      <td>False</td>\n      <td>False</td>\n      <td>False</td>\n      <td>False</td>\n      <td>False</td>\n      <td>False</td>\n      <td>False</td>\n      <td>False</td>\n      <td>False</td>\n      <td>False</td>\n      <td>False</td>\n      <td>False</td>\n      <td>False</td>\n      <td>False</td>\n    </tr>\n    <tr>\n      <th>3</th>\n      <td>False</td>\n      <td>False</td>\n      <td>False</td>\n      <td>False</td>\n      <td>False</td>\n      <td>False</td>\n      <td>False</td>\n      <td>True</td>\n      <td>False</td>\n      <td>False</td>\n      <td>False</td>\n      <td>False</td>\n      <td>False</td>\n      <td>False</td>\n      <td>False</td>\n      <td>False</td>\n    </tr>\n    <tr>\n      <th>4</th>\n      <td>False</td>\n      <td>False</td>\n      <td>False</td>\n      <td>False</td>\n      <td>False</td>\n      <td>False</td>\n      <td>False</td>\n      <td>False</td>\n      <td>False</td>\n      <td>False</td>\n      <td>False</td>\n      <td>False</td>\n      <td>False</td>\n      <td>False</td>\n      <td>False</td>\n      <td>False</td>\n    </tr>\n    <tr>\n      <th>...</th>\n      <td>...</td>\n      <td>...</td>\n      <td>...</td>\n      <td>...</td>\n      <td>...</td>\n      <td>...</td>\n      <td>...</td>\n      <td>...</td>\n      <td>...</td>\n      <td>...</td>\n      <td>...</td>\n      <td>...</td>\n      <td>...</td>\n      <td>...</td>\n      <td>...</td>\n      <td>...</td>\n    </tr>\n    <tr>\n      <th>95</th>\n      <td>False</td>\n      <td>False</td>\n      <td>False</td>\n      <td>False</td>\n      <td>False</td>\n      <td>False</td>\n      <td>False</td>\n      <td>False</td>\n      <td>False</td>\n      <td>False</td>\n      <td>False</td>\n      <td>False</td>\n      <td>False</td>\n      <td>False</td>\n      <td>False</td>\n      <td>False</td>\n    </tr>\n    <tr>\n      <th>96</th>\n      <td>False</td>\n      <td>False</td>\n      <td>False</td>\n      <td>False</td>\n      <td>False</td>\n      <td>False</td>\n      <td>False</td>\n      <td>False</td>\n      <td>False</td>\n      <td>False</td>\n      <td>False</td>\n      <td>False</td>\n      <td>False</td>\n      <td>False</td>\n      <td>False</td>\n      <td>False</td>\n    </tr>\n    <tr>\n      <th>97</th>\n      <td>False</td>\n      <td>False</td>\n      <td>False</td>\n      <td>False</td>\n      <td>False</td>\n      <td>False</td>\n      <td>False</td>\n      <td>False</td>\n      <td>False</td>\n      <td>False</td>\n      <td>False</td>\n      <td>False</td>\n      <td>False</td>\n      <td>False</td>\n      <td>False</td>\n      <td>False</td>\n    </tr>\n    <tr>\n      <th>98</th>\n      <td>False</td>\n      <td>False</td>\n      <td>False</td>\n      <td>False</td>\n      <td>False</td>\n      <td>False</td>\n      <td>False</td>\n      <td>False</td>\n      <td>False</td>\n      <td>False</td>\n      <td>False</td>\n      <td>False</td>\n      <td>False</td>\n      <td>False</td>\n      <td>False</td>\n      <td>False</td>\n    </tr>\n    <tr>\n      <th>99</th>\n      <td>False</td>\n      <td>False</td>\n      <td>False</td>\n      <td>False</td>\n      <td>False</td>\n      <td>False</td>\n      <td>False</td>\n      <td>False</td>\n      <td>False</td>\n      <td>False</td>\n      <td>False</td>\n      <td>False</td>\n      <td>False</td>\n      <td>False</td>\n      <td>False</td>\n      <td>False</td>\n    </tr>\n  </tbody>\n</table>\n<p>100 rows × 16 columns</p>\n</div>"
     },
     "execution_count": 24,
     "metadata": {},
     "output_type": "execute_result"
    }
   ],
   "source": [
    "missing_data = df.isnull()\n",
    "#missing_data.head(100)\n",
    "\n",
    "for column in missing_data.columns.values.tolist():\n",
    "    print(column)\n",
    "    print(missing_data[column].value_counts())"
   ],
   "metadata": {
    "collapsed": false,
    "pycharm": {
     "name": "#%% missing values\n"
    }
   }
  },
  {
   "cell_type": "code",
   "execution_count": 37,
   "outputs": [
    {
     "data": {
      "text/plain": "         categoryId    view_count         likes       dislikes  comment_count\ncount  83144.000000  8.314400e+04  8.314400e+04   83144.000000   8.314400e+04\nmean      18.923879  1.679076e+06  9.608304e+04    2405.153745   9.210910e+03\nstd        6.979530  5.918844e+06  3.718349e+05   11876.640449   9.077099e+04\nmin        1.000000  0.000000e+00  0.000000e+00       0.000000   0.000000e+00\n25%       17.000000  1.159545e+05  5.535000e+03     112.000000   3.630000e+02\n50%       22.000000  3.001220e+05  1.512550e+04     315.000000   9.710000e+02\n75%       24.000000  1.007665e+06  5.168500e+04    1129.000000   3.322250e+03\nmax       29.000000  2.191105e+08  1.546084e+07  848975.000000   5.987755e+06",
      "text/html": "<div>\n<style scoped>\n    .dataframe tbody tr th:only-of-type {\n        vertical-align: middle;\n    }\n\n    .dataframe tbody tr th {\n        vertical-align: top;\n    }\n\n    .dataframe thead th {\n        text-align: right;\n    }\n</style>\n<table border=\"1\" class=\"dataframe\">\n  <thead>\n    <tr style=\"text-align: right;\">\n      <th></th>\n      <th>categoryId</th>\n      <th>view_count</th>\n      <th>likes</th>\n      <th>dislikes</th>\n      <th>comment_count</th>\n    </tr>\n  </thead>\n  <tbody>\n    <tr>\n      <th>count</th>\n      <td>83144.000000</td>\n      <td>8.314400e+04</td>\n      <td>8.314400e+04</td>\n      <td>83144.000000</td>\n      <td>8.314400e+04</td>\n    </tr>\n    <tr>\n      <th>mean</th>\n      <td>18.923879</td>\n      <td>1.679076e+06</td>\n      <td>9.608304e+04</td>\n      <td>2405.153745</td>\n      <td>9.210910e+03</td>\n    </tr>\n    <tr>\n      <th>std</th>\n      <td>6.979530</td>\n      <td>5.918844e+06</td>\n      <td>3.718349e+05</td>\n      <td>11876.640449</td>\n      <td>9.077099e+04</td>\n    </tr>\n    <tr>\n      <th>min</th>\n      <td>1.000000</td>\n      <td>0.000000e+00</td>\n      <td>0.000000e+00</td>\n      <td>0.000000</td>\n      <td>0.000000e+00</td>\n    </tr>\n    <tr>\n      <th>25%</th>\n      <td>17.000000</td>\n      <td>1.159545e+05</td>\n      <td>5.535000e+03</td>\n      <td>112.000000</td>\n      <td>3.630000e+02</td>\n    </tr>\n    <tr>\n      <th>50%</th>\n      <td>22.000000</td>\n      <td>3.001220e+05</td>\n      <td>1.512550e+04</td>\n      <td>315.000000</td>\n      <td>9.710000e+02</td>\n    </tr>\n    <tr>\n      <th>75%</th>\n      <td>24.000000</td>\n      <td>1.007665e+06</td>\n      <td>5.168500e+04</td>\n      <td>1129.000000</td>\n      <td>3.322250e+03</td>\n    </tr>\n    <tr>\n      <th>max</th>\n      <td>29.000000</td>\n      <td>2.191105e+08</td>\n      <td>1.546084e+07</td>\n      <td>848975.000000</td>\n      <td>5.987755e+06</td>\n    </tr>\n  </tbody>\n</table>\n</div>"
     },
     "execution_count": 37,
     "metadata": {},
     "output_type": "execute_result"
    }
   ],
   "source": [
    "#filter\n",
    "df.loc[:].describe()\n"
   ],
   "metadata": {
    "collapsed": false,
    "pycharm": {
     "name": "#%%\n"
    }
   }
  }
 ],
 "metadata": {
  "kernelspec": {
   "display_name": "Python 3",
   "language": "python",
   "name": "python3"
  },
  "language_info": {
   "codemirror_mode": {
    "name": "ipython",
    "version": 2
   },
   "file_extension": ".py",
   "mimetype": "text/x-python",
   "name": "python",
   "nbconvert_exporter": "python",
   "pygments_lexer": "ipython2",
   "version": "2.7.6"
  }
 },
 "nbformat": 4,
 "nbformat_minor": 0
}